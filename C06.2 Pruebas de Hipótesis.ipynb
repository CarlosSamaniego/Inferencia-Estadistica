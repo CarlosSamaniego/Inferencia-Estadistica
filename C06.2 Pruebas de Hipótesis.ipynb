{
 "cells": [
  {
   "cell_type": "markdown",
   "metadata": {},
   "source": [
    "<img src=\"logo.png\">"
   ]
  },
  {
   "cell_type": "markdown",
   "metadata": {},
   "source": [
    "# Pruebas de hipótesis para $\\mu$ de una normal con $\\sigma$ desconocida: Prueba Z\n",
    "\n",
    "## Cuando $n$ es grande ($\\ge 40$).\n",
    "\n",
    "En este caso podemos aplicar las reglas anteriores aunque la población no sea normal (independientemente de si conocemos o no a $\\sigma$).\n",
    "\n",
    "Si además $\\sigma$ no es conocida, podemos sustituirla por la desviación típica muestral $\\tilde{S}_X$ en la expresión de $Z$: $$Z=\\frac{\\overline{X}-\\mu_0}{\\tilde{S}_X/\\sqrt{n}}.$$\n"
   ]
  },
  {
   "cell_type": "markdown",
   "metadata": {},
   "source": [
    "**Ejemplo.**\n",
    "\n",
    "Una organización ecologista afirma que el peso medio de los individuos adultos de una especie marina ha disminuido drásticamente. \n",
    "\n",
    "Se sabe por los datos históricos que el peso medio poblacional era de 460kg.\n",
    "\n",
    "Una muestra aleatoria de 40 individuos de esta especie ha dado una media muestral de 420kg y una desviación típica muestral de 119kg.\n",
    "\n",
    "Con estos datos, ¿podemos afirmar con un nivel de significación del 5% que el peso medio es inferior a 460kg?"
   ]
  },
  {
   "cell_type": "markdown",
   "metadata": {},
   "source": [
    "La hipótesis nula viene dada por $\\mu = 460$, en tanto que la alternativa es $\\mu<460$."
   ]
  },
  {
   "cell_type": "code",
   "execution_count": null,
   "metadata": {},
   "outputs": [],
   "source": [
    "### Sabemos que alpha=0.05, mu0=460, n=40, media_muestral=420 y desviación_muestral=119. \n",
    "### Queremos contrastar H0: mu = 460 contra H1: mu<460. \n",
    "\n",
    "### El p-valor es P( Z < cuentas ) y rechazamos H0 si el p-valor es menor que alpha.\n",
    "### el estadístico de contraste es ( media_muestral - media_propuesta ) / (desviacion_muestral / sqrt(tamaño de muestra) )\n",
    "\n",
    "pnorm( (420 - 460) / (119/sqrt(40)) )\n",
    "pnorm( (420 - 460) / (119/sqrt(40)) ) < 0.05 "
   ]
  },
  {
   "cell_type": "markdown",
   "metadata": {},
   "source": [
    "**Informe.** El p-valor de este contraste es 0.017 y la región de rechazo al nivel de significación $\\alpha=0.05$ para la media poblacional $\\mu$ es...\n",
    "\n",
    "\n",
    "Como 460 está en la región de rechazo, hay evidencia significativa para rechazar la hipótesis nula en favor de $\\mu<460$."
   ]
  },
  {
   "cell_type": "markdown",
   "metadata": {},
   "source": [
    "## Cuando $n$ no es grande: Prueba T \n",
    "\n",
    "En este caso, las reglas de decisión son similares al caso de $\\sigma$ conocida excepto que ahora sustituimos $\\sigma$ con $\\tilde{S}_X$ y empleamos la $t$ de Student.\n",
    "\n",
    "Recordemos que si $X_1,X_2,\\cdots,X_n$ es una m.a.s. de una población normal con media $\\mu_0$, la variable $$T=\\frac{\\overline{X}-\\mu_0}{\\tilde{S}_X/\\sqrt{n}}$$ es una $t$ de Student con $n-1$ grados de libertad.\n",
    "\n",
    "Los p-valores se calculan con esta distribución."
   ]
  },
  {
   "cell_type": "markdown",
   "metadata": {},
   "source": [
    "Supongamos que disponemos de una m.a.s. de tamaño $n$ de una población $N(\\mu,\\sigma)$ con ambos parámetros desconocidos.\n",
    "\n",
    "Nos planteamos los siguientes contrastes:\n",
    "\n",
    "\n",
    "a. $ \\left\\{\\begin{array}{ccc}H_0:&\\mu=\\mu_0&(\\mbox{o }H_0:\\mu\\le\\mu_0)\\\\H_1:&\\mu>\\mu_0& \\end{array}\\right.$\n",
    "\n",
    "b. $\\left\\{\\begin{array}{ccc}H_0:&\\mu=\\mu_0&(\\mbox{o }H_0:\\mu\\ge\\mu_0)\\\\H_1:&\\mu<\\mu_0& \\end{array}\\right.$\n",
    "\n",
    "c. $\\left\\{\\begin{array}{cc}H_0:&\\mu=\\mu_0\\\\H_1:&\\mu\\neq\\mu_0 \\end{array}\\right.$"
   ]
  },
  {
   "cell_type": "markdown",
   "metadata": {},
   "source": [
    "El estadístico de contraste es $T=\\frac{\\overline{X}-\\mu_0}{\\tilde{S}_X/\\sqrt{n}}$ y calcularemos $t_0$ sobre la muestra.\n",
    "\n",
    "Los p-valores son los siguientes.\n",
    "\n",
    "a. p-valor: $P(t_{n-1}\\ge t_0)$\n",
    "\n",
    "b. p-valor: $P(t_{n-1}\\le t_0)$\n",
    "\n",
    "c. p-valor: $2P(t_{n-1}\\ge |t_0|)$"
   ]
  },
  {
   "cell_type": "markdown",
   "metadata": {},
   "source": [
    "### La función t.test de R\n",
    "\n",
    "La función t.test sirve para realizar los cálculos anteriores directamente.\n",
    "\n",
    "t.test(x, y = NULL,\n",
    "       alternative = c(\"two.sided\", \"less\", \"greater\"),\n",
    "       mu = 0, paired = FALSE, var.equal = FALSE,\n",
    "       conf.level = 0.95,\n",
    "       na.action)\n",
    "       \n",
    "       \n",
    "x = datos muestrales\n",
    "\n",
    "alternative: si se trata de prueba bilateral o unilateral.\n",
    "\n",
    "mu: valor supuesto de la media.\n",
    "\n",
    "conf.level: probabilidad de error de tipo I.\n",
    "\n",
    "na.action: qué hacer con los datos faltantes:\n",
    "    * na.omit: valor por defecto; elimina las entradas NA.\n",
    "    * na.fail: hace que la ejecución pare.\n",
    "    * na.pass: no hace nada con los NA y permite que las operaciones internas de la función sigan su curso y los manejan como corresponda"
   ]
  },
  {
   "cell_type": "markdown",
   "metadata": {},
   "source": [
    "**Ejemplo.**\n",
    "\n",
    "Se espera que el nivel de colesterol en plasma de unos enfermos bajo un determinado tratamiento se distribuya normalmente con media 220 mg/dl.\n",
    "\n",
    "Se toma una muestra de 9 enfermos y se miden sus niveles: 203, 229, 215, 220, 223, 233, 208, 228, 209.\n",
    "\n",
    "Contrastar la hipótesis de que esta muestra efectivamente proviene de una población con media 220mg/dl."
   ]
  },
  {
   "cell_type": "markdown",
   "metadata": {},
   "source": [
    "**Solución.**\n",
    "\n",
    "El contraste planteado es $$\\left\\{\\begin{array}{cc}H_0:&\\mu=220\\\\H_1:&\\mu\\neq220 \\end{array}\\right.$$\n",
    "\n",
    "donde $\\mu$ representa la media del colesterol en plasma de la población.\n",
    "\n",
    "Bajo estas condiciones (población normal, $\\sigma$ desconocida, muestra pequeña con $n=9$) usaremos el estadístico de contraste $T=\\frac{\\overline{X}-220}{\\tilde{S}_X/\\sqrt{9}}$, cuya distribución es $t_8$.\n",
    "\n",
    "\n",
    "\n"
   ]
  },
  {
   "cell_type": "code",
   "execution_count": null,
   "metadata": {},
   "outputs": [],
   "source": [
    "muestra <- c(203, 229, 215, 220, 223, 233, 208, 228, 209)\n",
    "t.test(muestra,alternative = \"two.sided\", mu = 220, conf.level = 0.95)\n",
    "\n",
    "(mean(muestra)-220 ) / (sd(muestra)/sqrt(9))"
   ]
  },
  {
   "cell_type": "markdown",
   "metadata": {},
   "source": [
    "**Informe.**\n",
    "\n",
    "Como el p-valor es grande (0.71) y 220, que es el valor propuesto, está en el intervalo de confianza al 95%, el cual es (210.58,226.76), no hay evidencia para rechazar $\\mathcal{H}_0$."
   ]
  },
  {
   "cell_type": "markdown",
   "metadata": {},
   "source": [
    "**Ejemplo.**\n",
    "\n",
    "Veamos si, dada una muestra de tamaño 40 de flores de iris, podemos considerar que la media de la longitud del sépalo es mayor que 5.9 (set.seed(230))\n",
    "\n",
    "\n",
    "El contraste sería $\\mathcal{H}_0:\\mbox{media}\\le5.9$, $\\mathcal{H}_1:\\mbox{media}>5.9$ \n",
    "\n"
   ]
  },
  {
   "cell_type": "code",
   "execution_count": null,
   "metadata": {},
   "outputs": [],
   "source": [
    "muestra <- iris[sample(1:150,40,replace = TRUE),]$Sepal.Length\n",
    "\n",
    "t.test(muestra,alternative=\"greater\",mu=5.9,conf.level=0.95)\n"
   ]
  },
  {
   "cell_type": "markdown",
   "metadata": {},
   "source": [
    "**Informe.**\n",
    "\n",
    "Como el p-valor es grande (0.84) y 5.9, que es el valor propuesto, está en el intervalo de confianza al 95%, el cual es $(5.47,\\infty)$, no hay evidencia para rechazar $\\mathcal{H}_0$."
   ]
  },
  {
   "cell_type": "markdown",
   "metadata": {},
   "source": [
    "## Prueba Z contra Prueba T\n",
    "\n",
    "En el caso de una población con $\\sigma$ desconocida:\n",
    "\n",
    "* Si la muestra es pequeña y la población es normal, tenemos que usar la Prueba T.\n",
    "\n",
    "\n",
    "* Si la muestra es pequeña y la población es cualquiera, no podemos hacer nada de momento.\n",
    "\n",
    "\n",
    "* Si la muestra es grande y la población es cualquiera, usamos la Prueba Z.\n",
    "\n",
    "\n",
    "* Si la muestra es grande y la población es normal, podemos usar ambos. En este último caso, se recomienda la Prueba T. "
   ]
  }
 ],
 "metadata": {
  "kernelspec": {
   "display_name": "R",
   "language": "R",
   "name": "ir"
  },
  "language_info": {
   "codemirror_mode": "r",
   "file_extension": ".r",
   "mimetype": "text/x-r-source",
   "name": "R",
   "pygments_lexer": "r",
   "version": "3.6.1"
  }
 },
 "nbformat": 4,
 "nbformat_minor": 4
}
