{
 "cells": [
  {
   "cell_type": "markdown",
   "metadata": {},
   "source": [
    "<img src=\"logo.png\">"
   ]
  },
  {
   "cell_type": "markdown",
   "metadata": {},
   "source": [
    "# Regresión lineal simple\n",
    "\n",
    "**lm(y~x)** objeto donde R guarda la información de la regresión lineal de la variable $Y$ en función de $X$.\n",
    "\n",
    "\n",
    "**summary(lm(y~x))** información detallada de la recta de regresión:\n",
    "\n",
    "    summary(lm(y~x))$r.squared nos da el coeficiente de determinación.\n",
    "    \n",
    "    summary(lm(y~x))$coeffiecients nos da los coeficientes  b0 y b1, las desviaciones estandar del error de dichos estimadores, el valor t al hacer los contraste de hipótesis para contrastar si son nulos y los p-valores correspondientes a dicho contraste.\n",
    "    \n",
    "**confint(lm(y~x),level = q)** nos da el intervalo de confianza de los parámetros $\\beta_0$ y $\\beta_1$ al $100q\\%$ de confianza.\n",
    "\n",
    "**predict.lm(lm(y~x),newdata,interval=...,level=q)** da el intervalo de confianza del parámetros $\\mu|_{Y|_{x_0}}$ dependiendo de los valores de interval (newdata debe ser un dataframe de una fila con el valor de la variable $x_0$): \n",
    "    \n",
    "    interval = \"confidence\" es intervalo de confianza para la media.\n",
    "    \n",
    "    interval = \"prediction\" es intervalo de confianza para el valor verdadero.\n",
    "    \n"
   ]
  },
  {
   "cell_type": "markdown",
   "metadata": {},
   "source": [
    "# Regresión lineal múltiple\n",
    "\n",
    "**lm(y~x1+x2+...+xk)** objeto donde R guarda la información de la función de la variable dependiente en términos de las independientes.\n",
    "\n",
    "**summary(lm(y~x1+x2+...+xk))** información detallada de la regresión. \n",
    "\n",
    "    summary(lm(y~x1+x2+...+xk))$adj.r.squared nos da el coeficiente de determinación ajustado\n",
    "    \n",
    "**AIC(lm(y~x1+x2+...+xk))** y **BIC(lm(y~x1+x2+...+xk))** nos dan los índices de Akaike y bayesiano.\n",
    "\n",
    "**confint(lm(y~x1+x2+...+xk),level = q)** funciona igual que en la regresión simple.\n",
    "\n",
    "**predict.lm(lm(y~x),newdata,interval=...,level=q)** funciona igual que en la regresión simple.\n",
    "    \n",
    "   \n"
   ]
  },
  {
   "attachments": {},
   "cell_type": "markdown",
   "metadata": {},
   "source": [
    "# Comprobación de las hipótesis.\n",
    "\n",
    "<img src=\"condiciones1.png\">"
   ]
  },
  {
   "cell_type": "markdown",
   "metadata": {},
   "source": [
    "<img src=\"condiciones2.png\">"
   ]
  },
  {
   "cell_type": "markdown",
   "metadata": {},
   "source": [
    "<img src=\"condiciones3.png\">"
   ]
  }
 ],
 "metadata": {
  "kernelspec": {
   "display_name": "R",
   "language": "R",
   "name": "ir"
  },
  "language_info": {
   "codemirror_mode": "r",
   "file_extension": ".r",
   "mimetype": "text/x-r-source",
   "name": "R",
   "pygments_lexer": "r",
   "version": "3.6.1"
  }
 },
 "nbformat": 4,
 "nbformat_minor": 4
}
