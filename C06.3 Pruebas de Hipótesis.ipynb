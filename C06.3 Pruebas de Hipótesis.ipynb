{
 "cells": [
  {
   "cell_type": "markdown",
   "metadata": {},
   "source": [
    "<img src=\"logo.png\">"
   ]
  },
  {
   "cell_type": "markdown",
   "metadata": {},
   "source": [
    "# Contraste para el parámetro $p$ de una Bernoulli.\n",
    "\n",
    "Supongamos que tenemos una m.a.s. de tamaño $n$ de una Bernoulli con parámetro $p$.\n",
    "\n",
    "Obtenemos $x_0$ éxitos, de forma que la proporción muestral de éxitos será $\\widehat{p}=x_0/n$.\n",
    "\n",
    "Consideramos un contraste con hipótesis nula $H_0:p=p_0$. Si $H_0$ es verdadera, el número de éxitos sigue una distribución $Bin(n,p_0)$.\n"
   ]
  },
  {
   "cell_type": "markdown",
   "metadata": {},
   "source": [
    "Nos planteamos los siguientes contrastes:\n",
    "\n",
    "\n",
    "a. $ \\left\\{\\begin{array}{ccc}\\mathcal{H_0}:&p=p_0&(\\mbox{o }\\mathcal{H_0}:p\\le p_0)\\\\\\mathcal{H_0}:&p>p_0& \\end{array}\\right.$\n",
    "\n",
    "b. $\\left\\{\\begin{array}{ccc}\\mathcal{H_0}:&p=p_0&(\\mbox{o }\\mathcal{H_0}:p\\ge p_0)\\\\\\mathcal{H_0}:&p<p_0& \\end{array}\\right.$\n",
    "\n",
    "c. $\\left\\{\\begin{array}{cc}\\mathcal{H_0}:&p=p_0\\\\\\mathcal{H_0}:&p\\neq p_0 \\end{array}\\right.$\n",
    "\n",
    "Los p-valores son los siguientes.\n",
    "\n",
    "a. p-valor: $P(Bin(n,p_0)\\ge t_0)$\n",
    "\n",
    "b. p-valor: $P(Bin(n,p_0)\\le t_0)$\n",
    "\n",
    "c. p-valor: $2\\min\\{P(Bin(n,p_0)\\le x_0),P(Bin(n,p_0)\\ge x_0)\\}$"
   ]
  },
  {
   "cell_type": "markdown",
   "metadata": {},
   "source": [
    "**Ejemplo.**\n",
    "\n",
    "Tenemos un test para detectar un determinado microorganismo. En una muestra de 25 cultivos con este microorganismo, el test lo detectó en 21 casos. Hay evidencia de que la sensibilidad del test sea superior al 80%?\n",
    "\n",
    "El contraste planteado es el siguiente: $$\\left\\{\\begin{array}{cc}\\mathcal{H}_0:&p=0.8\\\\\\mathcal{H}_1:&p>0.8\\end{array}\\right.$$ donde $p$ representa la probabilidad dde que el test detecte el microorganismo.\n",
    "\n",
    "El estadístico de contraste que usaremos será el número de éxitos $x_0$ que, bajo la hipótesis nula, se distribuye según $Bin(25,0.8)$. Su valor en este caso es $x_0=21$.\n",
    "\n",
    "El p-valor será $P(Bin(25,0.8)\\ge 21)$\n",
    "\n"
   ]
  },
  {
   "cell_type": "markdown",
   "metadata": {},
   "source": [
    "## La función binom.test en R\n",
    "\n",
    "Esta función viene dada por \n",
    "\n",
    "binom.test(x, n, p = 0.5,\n",
    "           alternative = c(\"two.sided\", \"less\", \"greater\"),\n",
    "           conf.level = 0.95)\n",
    "           \n",
    "donde\n",
    "\n",
    "x y n son números naturales: número de éxitos y tamaño de la muestra.\n",
    "\n",
    "p: probabilidad de éxito que queremos contrastar.\n",
    "\n",
    "El intervalo de confianza para la $p$ es el de Clopper-Pearson."
   ]
  },
  {
   "cell_type": "markdown",
   "metadata": {},
   "source": [
    "**Ejemplo.**\n",
    "\n",
    "Consideremos la tabla de datos birthwt del paquete MASS. Dicha tabla de datos contiene información acerca de 189 recién nacidos en un hospital de Springfield en 1986.\n",
    "\n",
    "Vamos a contrastar si la proporcición de madres fumadoras supera el 30%: $$\\left\\{\\begin{array}{cc}\\mathcal{H}_0:&p=0.3\\\\\\mathcal{H}_1:&p>0.3\\end{array}\\right.$$ donde $p$ es la proporción de madres fumadoras considerando una muestra de tamaño 30 (set.seed(1001))\n",
    "\n",
    "\n",
    "\n",
    "\n",
    "\n"
   ]
  }
 ],
 "metadata": {
  "kernelspec": {
   "display_name": "R",
   "language": "R",
   "name": "ir"
  },
  "language_info": {
   "codemirror_mode": "r",
   "file_extension": ".r",
   "mimetype": "text/x-r-source",
   "name": "R",
   "pygments_lexer": "r",
   "version": "3.6.1"
  }
 },
 "nbformat": 4,
 "nbformat_minor": 4
}
