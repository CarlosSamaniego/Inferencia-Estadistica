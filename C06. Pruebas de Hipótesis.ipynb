{
 "cells": [
  {
   "cell_type": "markdown",
   "metadata": {},
   "source": [
    "<img src=\"logo.png\">"
   ]
  },
  {
   "cell_type": "markdown",
   "metadata": {},
   "source": [
    "# Pruebas de Hipótesis\n",
    "\n",
    "Para que la Estadística Inferencial sea útil, no solamente es importante inferir un parámetro poblacional, sino también tomar decisiones.\n",
    "\n",
    "Por ejemplo, una empresa de telecomunicaciones recibe una partida de 100 routers cada mes. El técnico que  encarga de la recepción del material tiene la orden de rechazar entera las partidas que contengan más de 5% de unidades defectuosas. Al no disponer de tiempo para revisar todos los routers, toma la decisión de aceptar o rechazar la partida basándose en el análisis de una muestra aleatoria de unidades.\n",
    "\n",
    "**Hipótesis estadística.** Es una conjetura acerca de la distribución de una o más variables aleatorias. \n",
    "\n",
    "El método estadístico de toma de decisión sobre una hipótesis recibe el nombre de **contraste o prueba de hipótesis**.\n",
    "\n",
    "En general, contrastaremos dos hipótesis: la hipótesis nula ($\\mathcal{H}_0$) y la hipótesis alternativa ($\\mathcal{H}_1$ o también denotada como $\\mathcal{H}_a$):\n",
    "\n",
    "* **Hipótesis alternativa $\\mathcal{H}_1$.** Es aquella de la que buscamos evidencia.\n",
    "\n",
    "* **Hipótesis nula $\\mathcal{H}_0$.** Es la que rechazaremos si obtenemos evidencia acerca de la hipótesis alternativa. En caso de no obtener evidencias que favorezcan a $\\mathcal{H}_1$, nos quedamos con $\\mathcal{H}_0$.\n",
    "\n",
    "**Características $\\mathcal{H}_0$ y $\\mathcal{H}_1$**\n",
    "\n",
    "* $\\mathcal{H}_1$ se define con $>,<$ o $\\neq$.\n",
    "* $\\mathcal{H}_0$ se define con $=$, $\\le$ o $\\ge$.\n",
    "\n",
    "**Ejemplo**\n",
    "\n",
    "Digamos que en el lago de Chapala, está permitido el consumo de pescado durante el mes de abril si la concentración media de bacterias en el agua no supera 1000 NMP/ml. La hipotesis nula en este caso sería $\\mathcal{H}_0$ dada por \"la concentración media de bacterias en el agua es $\\le 1000$\", en tanto que la hipótesis alternativa sería $\\mathcal{H}_1$ dada por \"concentración media de bacterias en el agua es $>1000$\".\n",
    "\n",
    "\n",
    "**Tipos de hipótesis alternativas**\n",
    "\n",
    "* Hipotesis unilateral: Son de la forma $\\mathcal{H}_1: \\theta>\\theta_0$ o $\\mathcal{H}_1: \\theta<\\theta_0$.\n",
    "* Hipotesis bilateral: Son de la forma $\\mathcal{H}_1: \\theta\\neq\\theta_0$."
   ]
  },
  {
   "cell_type": "markdown",
   "metadata": {},
   "source": [
    "## Tipos de errores\n",
    "\n",
    "<img src=\"tipo_error.png\">\n",
    "\n",
    "**Error tipo I ($E_I$).** Rechazar $\\mathcal{H}_0$ cuando es cierta. La probabilidad de cometerlo es $$P(E_I)=P(Rechazar\\,\\mathcal{H}_0\\,|\\,\\mathcal{H}_0\\,es\\,cierta)=\\alpha,$$ donde $\\alpha$ es el *nivel de significación de la prueba*.\n",
    "\n",
    "\n",
    "**Error tipo II ($E_{II}$).** Aceptar $\\mathcal{H}_0$ cuando es falsa. La probabilidad de cometerlo es $$P(E_{II})=P(Aceptar\\,\\mathcal{H}_0\\,|\\,\\mathcal{H}_0\\,es\\,falsa)=\\beta,$$ donde $1-\\beta=P(Rechazar\\,\\mathcal{H}_0\\,|\\,\\mathcal{H}_0\\,es\\,falsa)$ es la *potencia del contraste*. "
   ]
  },
  {
   "cell_type": "markdown",
   "metadata": {},
   "source": [
    "Lo mas conveniente es encontrar una regla de rechazo de $\\mathcal{H_0}$ que tenga poca probabilidad de $E_I$. Pero también queremos minimizar la probabilidad de $E_{II}$. El problema es que cuando hacemos disminuir $\\alpha$, suele aumentar $\\beta$.\n",
    "\n",
    "Lo que se suele hacer es encontrar una regla de decisión para un $\\alpha$ máximo fijado y después, si es posible, controlar el tamaño de la muestra para minimizar $\\beta$.\n",
    "\n",
    "**Otros conceptos.**\n",
    "\n",
    "\n",
    "* **Estadístico de contraste.** Es una variable aleatoria función de la muestra que nos permite definir una regla de rechazo de $\\mathcal{H}_0$.\n",
    "\n",
    "\n",
    "* **Nivel de significación $\\alpha$.** Es la probabilidad de cometer $E_I$.\n",
    "\n",
    "\n",
    "* **Región crítica o de rechazo.** Zona o región de números donde se verifica que si el estadístico de contraste ha caído, entonces rechazamos $\\mathcal{H}_0$.\n",
    "\n",
    "\n",
    "* **Región de aceptación.** Zona o región complementaria de la región crítica."
   ]
  },
  {
   "cell_type": "markdown",
   "metadata": {},
   "source": [
    "## Contraste de hipótesis para la media poblacional de una normal con desviación conocida.\n",
    "\n",
    "### Caso 1\n",
    "\n",
    "Sea $X$ una v.a. $N(\\mu,\\sigma)$ con $\\mu$ desconocida y $\\sigma$ conocida, y $X_1,\\cdots,X_n$ una m.a.s. de $X$, nos planteamos el contraste siguiente:\n",
    "$$\\left\\{\\begin{array}[cc] \\mathcal{H}_0:&\\mu=\\mu_0\\\\\\mathcal{H}_1:&\\mu>\\mu_0\\end{array}\\right.$$\n",
    "\n",
    "Para hallar la región de rechazo, pensemos que tenemos que rechazar $\\mathcal{H}_0$ en favor de $\\mathcal{H}_1$ si $\\overline{X}$ es \"bastante mas grande\" que $\\mu_0$.\n",
    "\n",
    "\n",
    "Si $\\mathcal{H}_0$ fuero cierta, entonces $Z=\\frac{\\overline{X}-\\mu_0}{\\sigma/\\sqrt{n}}\\sim N(0,1)$. Entonces la regla consistirá en rechazar $\\mathcal{H}_0$ si el **estadístico de contraste $Z$** es mayor que un cierto umbral: $\\alpha$. Esto es: $$\\alpha=P(rechazar\\,\\mathcal{H}_0\\,|\\,\\mathcal{H}_0\\, es cierta)=P(Z>umbral),$$ de donde $umbral=Z_{1-\\alpha}$. \n",
    "\n",
    "En resumen: **rechazamos $\\mathcal{H}_0$ si $\\frac{\\overline{X}-\\mu_0}{\\sigma/\\sqrt{n}}>Z_{1-\\alpha}$.** \n",
    "\n",
    "<img src=\"rechazo_sup.png\">\n",
    "\n"
   ]
  },
  {
   "cell_type": "markdown",
   "metadata": {},
   "source": [
    "**Ejemplo.** Sea $X$ una población normal con $\\sigma=1.8$. Queremos hacer el contraste $$\\left\\{\\begin{array}{cc}\\mathcal{H}_0:&\\mu=20\\\\\\mathcal{H}_1:&\\mu>20\\end{array}\\right.$$ con una significación de 0.05.\n",
    "\n",
    "Tomemos un m.a.s. de $n=25$ observaciones. Suponiendo que $\\overline{x}=20.25$, ¿qué decidimos?"
   ]
  },
  {
   "cell_type": "code",
   "execution_count": null,
   "metadata": {},
   "outputs": [],
   "source": [
    "#### sigma=1.8, mu0=20, alpha=0.05, media_muestral=20.25, n=25\n",
    "\n",
    "( 20.25 - 20 ) / (1.8/sqrt(25)) > qnorm(1-0.05)"
   ]
  },
  {
   "cell_type": "markdown",
   "metadata": {},
   "source": [
    "### Caso 2\n",
    "\n",
    "Sea $X$ una v.a. $N(\\mu,\\sigma)$ con $\\mu$ desconocida y $\\sigma$ conocida, y $X_1,\\cdots,X_n$ una m.a.s. de $X$, nos planteamos el contraste siguiente:\n",
    "$$\\left\\{\\begin{array}[cc] \\mathcal{H}_0:&\\mu=\\mu_0\\\\\\mathcal{H}_1:&\\mu<\\mu_0\\end{array}\\right.$$\n",
    "\n",
    "**Rechazamos $\\mathcal{H}_0$ si $\\frac{\\overline{X}-\\mu_0}{\\sigma/\\sqrt{n}}<Z_{\\alpha}$.**\n"
   ]
  },
  {
   "cell_type": "markdown",
   "metadata": {},
   "source": [
    "### Caso 3\n",
    "\n",
    "Sea $X$ una v.a. $N(\\mu,\\sigma)$ con $\\mu$ desconocida y $\\sigma$ conocida, y $X_1,\\cdots,X_n$ una m.a.s. de $X$, nos planteamos el contraste siguiente:\n",
    "$$\\left\\{\\begin{array}[cc] \\mathcal{H}_0:&\\mu=\\mu_0\\\\\\mathcal{H}_1:&\\mu\\neq\\mu_0\\end{array}\\right.$$\n",
    "\n",
    "**Rechazamos $\\mathcal{H}_0$ si $\\frac{\\overline{X}-\\mu_0}{\\sigma/\\sqrt{n}}<Z_{\\alpha/2}$ o $\\frac{\\overline{X}-\\mu_0}{\\sigma/\\sqrt{n}}>Z_{1-\\alpha/2}$.**\n"
   ]
  },
  {
   "cell_type": "markdown",
   "metadata": {},
   "source": [
    "**Ejemplo.** Sea $X$ una población normal con $\\sigma=1.8$. Queremos hacer el contraste $$\\left\\{\\begin{array}{cc}\\mathcal{H}_0&\\mu=20\\\\\\mathcal{H}_1&\\mu\\neq20\\end{array}\\right.$$ con una significación de 0.05.\n",
    "\n",
    "Tomemos un m.a.s. de $n=25$ observaciones. Suponiendo que $\\overline{x}=20.5$, ¿qué decidimos?"
   ]
  },
  {
   "cell_type": "markdown",
   "metadata": {},
   "source": [
    "## P valores\n",
    "\n",
    "El **p-valor** de un contraste es la probabilidad que, si $\\mathcal{H}_0$ es verdadero, el estadístico de contraste tome un valor tan extremo o más que el que se ha observado.\n",
    "\n",
    "### Caso 1.\n",
    "\n",
    "Para el contraste siguiente:\n",
    "$$\\left\\{\\begin{array}{cc} \\mathcal{H}_0:&\\mu=\\mu_0\\\\\\mathcal{H}_1:&\\mu>\\mu_0,\\end{array}\\right.$$ \n",
    "\n",
    "si el estadístico $Z$ tiene el valor $z_0$, el $p$-valor se define como $p-valor=P(Z\\ge z_0).$\n",
    "\n",
    "### Caso 2.\n",
    "\n",
    "Para el contraste siguiente:\n",
    "$$\\left\\{\\begin{array}{cc} \\mathcal{H}_0:&\\mu=\\mu_0\\\\\\mathcal{H}_1:&\\mu<\\mu_0,\\end{array}\\right.$$ \n",
    "\n",
    "si el estadístico $Z$ tiene el valor $z_0$, el $p$-valor se define como $p-valor=P(Z\\le z_0)$\n",
    "\n",
    "### Caso 3.\n",
    "\n",
    "Para el contraste siguiente:\n",
    "$$\\left\\{\\begin{array}{cc} \\mathcal{H}_0:&\\mu=\\mu_0\\\\\\mathcal{H}_1:&\\mu\\neq\\mu_0,\\end{array}\\right.$$ \n",
    "\n",
    "si el estadístico $Z$ tiene el valor $z_0$, el $p$-valor se define como $p-valor=2P(Z\\ge |z_0|)$\n",
    "\n",
    "\n"
   ]
  },
  {
   "cell_type": "markdown",
   "metadata": {},
   "source": [
    "<img src=\"p_valor.png\">"
   ]
  },
  {
   "cell_type": "markdown",
   "metadata": {},
   "source": [
    "**Importante.** \n",
    "\n",
    "En un contraste con nivel de significación $\\alpha$, \n",
    "\n",
    "* Rechazamos $\\mathcal{H}_0$ si $p-valor<\\alpha$.\n",
    "\n",
    "* Aceptamos $\\mathcal{H}_0$ si $p-valor\\ge\\alpha$.\n",
    "\n"
   ]
  },
  {
   "cell_type": "markdown",
   "metadata": {},
   "source": [
    "### Caso 1.\n",
    "\n",
    "Para el contraste siguiente:\n",
    "$$\\left\\{\\begin{array}{cc} \\mathcal{H}_0:&\\mu=\\mu_0\\\\\\mathcal{H}_1:&\\mu>\\mu_0,\\end{array}\\right.$$ \n",
    "\n",
    "si el estadístico $Z$ tiene el valor $z_0$, el $p$-valor es $P(Z\\ge z_0).$ Además **rechazamos $\\mathcal{H}_0$ si y solo si $z_0>Z_{1-\\alpha}.$**\n",
    "\n",
    "### Caso 2.\n",
    "\n",
    "Para el contraste siguiente:\n",
    "$$\\left\\{\\begin{array}{cc} \\mathcal{H}_0:&\\mu=\\mu_0\\\\\\mathcal{H}_1:&\\mu<\\mu_0,\\end{array}\\right.$$ \n",
    "\n",
    "si el estadístico $Z$ tiene el valor $z_0$, el $p$-valor es $P(Z\\le z_0).$ Además **rechazamos $\\mathcal{H}_0$ si y solo si $z_0<Z_{\\alpha}.$**\n",
    "\n",
    "### Caso 3.\n",
    "\n",
    "Para el contraste siguiente:\n",
    "$$\\left\\{\\begin{array}{cc} \\mathcal{H}_0:&\\mu=\\mu_0\\\\\\mathcal{H}_1:&\\mu\\neq\\mu_0,\\end{array}\\right.$$ \n",
    "\n",
    "si el estadístico $Z$ tiene el valor $z_0$, el $p$-valor es $2P(Z\\ge |z_0|).$ Además **rechazamos $\\mathcal{H}_0$ si y solo si $|z_0|>Z_{1-\\alpha/2}.$**"
   ]
  },
  {
   "cell_type": "markdown",
   "metadata": {},
   "source": [
    "<img src=\"p_valor2.png\">"
   ]
  },
  {
   "cell_type": "markdown",
   "metadata": {},
   "source": [
    "**Importante**\n",
    "\n",
    "Si no establecemos un nivel de significación $\\alpha$, entonces\n",
    "\n",
    "* Aceptamos $\\mathcal{H}_0$ si el $p$-valor es \"grande\" ($\\ge 0.1$)\n",
    "\n",
    "\n",
    "* Rechazamos $\\mathcal{H}_0$ si el $p$-valor es \"pequeño\" ($< 0.05$). En este caso el $p$-valor es:\n",
    "\n",
    "    * Significativo: $0.01<p-valor<0.05$\n",
    "    \n",
    "    * Fuertemente significativo: $0.001<p-valor<0.01$\n",
    "    \n",
    "    * Muy significativo: $p-valor<0.001$"
   ]
  },
  {
   "cell_type": "markdown",
   "metadata": {},
   "source": [
    "**Ejemplo.** Sea $X$ una población normal con $\\sigma=1.8$. Queremos hacer el contraste $$\\left\\{\\begin{array}{cc}\\mathcal{H}_0&\\mu=20\\\\\\mathcal{H}_1&\\mu>20\\end{array}\\right.$$ \n",
    "\n",
    "Tomemos un m.a.s. de $n=25$ observaciones. Suponiendo que $\\overline{x}=20.25$, ¿qué decidimos?"
   ]
  }
 ],
 "metadata": {
  "kernelspec": {
   "display_name": "R",
   "language": "R",
   "name": "ir"
  },
  "language_info": {
   "codemirror_mode": "r",
   "file_extension": ".r",
   "mimetype": "text/x-r-source",
   "name": "R",
   "pygments_lexer": "r",
   "version": "3.6.1"
  }
 },
 "nbformat": 4,
 "nbformat_minor": 4
}
