{
 "cells": [
  {
   "cell_type": "markdown",
   "metadata": {},
   "source": [
    "<img src=\"logo.png\">"
   ]
  },
  {
   "cell_type": "markdown",
   "metadata": {},
   "source": [
    "# Análisis de la varianza: ANOVA\n",
    "\n",
    "El problema que intentamos resolver el un contraste de igualdad de medias cuando tenemos mas de dos poblaciones. \n",
    "\n",
    "Más formalmente: sea $k>2$. Si tenemos $k$ poblaciones (por ejemplo, las personas de $k$ países), y $\\mu_1,\\mu_2,...,\\mu_k$ son las medias reales de cada una de esas poblaciones, planteamos el contraste siguiente:\n",
    "$$\\left\\{\\begin{array}{l}\\mathcal{H}_0:\\mu_1=\\mu_2=...=\\mu_k\\\\\\mathcal{H}_1:\\mbox{existen }i,j\\mbox{ tales que }\\mu_i\\neq\\mu_j\\end{array}\\right.$$\n",
    "\n",
    "El test ANOVA realiza la comparación en la variabilidad de los dtos por grupos:\n",
    "\n",
    "* Variabilidad de los datos respecto de la media global.\n",
    "\n",
    "* Variabilidad dentro de cada población respecto de la media dentro de la población.\n",
    "\n",
    "* Variabilidad de las medias por poblaciones respecto de la media global.\n",
    "\n",
    "La idea del ANOVA es que si la variabilidad total de los datos es explicada por la variabilidad de las medias de las poblaciones y la poca \"variabilidad\" dentro de cada población, es indicio de que las medias son diferentes."
   ]
  },
  {
   "cell_type": "markdown",
   "metadata": {},
   "source": [
    "# Anova de un factor.\n",
    "\n",
    "Supongamos que estamos en los casos siguientes:\n",
    "\n",
    "* Usamos un solo factor para clasificar la población en subpoblaciones (**clasificación simple**).\n",
    "\n",
    "\n",
    "* El investigador decide qué niveles (categorías o **tratamientos**) del factor usará (**efectos fijos**).\n",
    "\n",
    "\n",
    "* Se toma una m.a.s. de cada subpolación, de manera independiente unas de las otras (**diseño completamente aleatoriedad**).\n",
    "\n",
    "Un estudio de este tipo se suele presentar como en la siguiente tabla:\n",
    "\n",
    "\n",
    "|$F_1$|$F_2$|...|$F_k$|\n",
    "|:--:|:--:|:--:|:--:|\n",
    "|$X_{11}$|$X_{21}$|...|$X_{k1}$|\n",
    "|$X_{12}$|$X_{22}$|...|$X_{k2}$|\n",
    "|$\\vdots$|$\\vdots$|$\\vdots$|$\\vdots$|\n",
    "|$X_{1{n_1}}$|$X_{2{n_2}}$|...|$X_{k{n_k}}$|"
   ]
  },
  {
   "cell_type": "markdown",
   "metadata": {},
   "source": [
    "Para poder aplicar ANOVA, el paso previo es almacenar los datos en dos variables:\n",
    "\n",
    "* Variable característica, llamada $X$.\n",
    "\n",
    "* Variable factor, llamada $F$.\n",
    "\n",
    "$X$ tendrá como valores los valores de la tabla anterior, y $F$ valdrá $i$ si el valor de la variable $X$ corresponde al nivel $i$-ésimo del factor.\n",
    "\n",
    "Es decir, se debe transformar la tabla anterior en una tabla con $N=n_1+n_2+\\cdots+n_k$ filas y 2 columnas, donde la primera columna son los valores de $X$ y la segunda son los valores de $F$."
   ]
  },
  {
   "cell_type": "markdown",
   "metadata": {},
   "source": [
    "**Ejemplo.**\n",
    "\n",
    "Se realizó un estudio para investigar el efecto del CO2 sobre la tasa de crecimiento de un hongo. Se cree que el crecimiento se ve afectado por la cantidad de CO2 en el aire.\n",
    "\n",
    "Para contrastarlo, en un experimento se administró CO2 a 5 presiones atmosféricas diferentes (ATM) a 10 cultivos diferentes por cada nivel y se anotó el cambio (en %) de la masa celular al cabo de una hora.\n",
    "\n",
    "|0.00|0.083|0.29|0.50|0.86|\n",
    "|:--:|:--:|:--:|:--:|:--:|\n",
    "|62.6|50.9|45.5|29.5|24.9|\n",
    "|59.6|44.3|41.1|22.8|17.2|\n",
    "|64.5|47.5|29.8|19.2|7.8 |\n",
    "|59.3|49.5|38.3|20.6|10.5|\n",
    "|58.6|48.5|40.2|29.2|17.8|\n",
    "|64.6|50.4|38.5|24.1|22.1|\n",
    "|50.9|35.2|30.2|22.6|22.6|\n",
    "|56.2|49.9|27.0|32.7|16.8|\n",
    "|52.3|42.6|40.0|24.4|15.9|\n",
    "|62.8|41.6|33.9|29.6|8.8 |"
   ]
  },
  {
   "cell_type": "markdown",
   "metadata": {},
   "source": [
    "## Definiciones.\n",
    "\n",
    "* Suma total de los datos nivel $i$: $T_{i\\bullet}=\\sum_{j=1}^{n_i}X_{ij}$.\n",
    "\n",
    "\n",
    "* Media muestral de los datos nivel $i$: $\\overline{X_{i\\bullet}}=\\frac{T_{i\\bullet}}{n_i}$.\n",
    "\n",
    "\n",
    "* Suma total de los datos: $T_{\\bullet\\bullet}=\\sum_{i=1}^k\\sum{j=1}^{n_i}X_{ij}$.\n",
    "\n",
    "\n",
    "* Media muestral de todos los datos: $\\overline{X_{\\bullet\\bullet}}=\\frac{T_{\\bullet\\bullet}}{N}$, donde $N=n_1+n_2+\\cdots+n_k$.\n",
    "\n"
   ]
  },
  {
   "cell_type": "markdown",
   "metadata": {},
   "source": [
    "## El modelo\n",
    "\n",
    "Las suposiciones del modelo son:\n",
    "\n",
    "* Las $k$ muestras son un m.a.s. independientes extraídas de $k$ poblaciones específicas con medias $\\mu_1,\\mu_2,\\cdots,\\mu_k$.\n",
    "\n",
    "\n",
    "* Cada una de las $k$ subpoblaciones sigue una ley normal.\n",
    "\n",
    "\n",
    "* Todas estas subpoblaciones tienen la misma varianza $\\sigma^2$ (homocedasticidad).\n",
    "\n"
   ]
  },
  {
   "cell_type": "markdown",
   "metadata": {},
   "source": [
    "### Teorema importante:\n",
    "\n",
    "La variabilidad de los datos respecto de la media global (**suma total de cuadrados**) es igual a la variabilidad de las medias de cada grupo respecto a la media globla (**suma de cuadrados de los tratamientos**) mas la variabilidad de los respecto de la media de cada grupo (**suma de cuadrados de los residuos**). Esto es: $$\\sum_{i=1}^k \\sum_{j=1}^{n_i}(X_{ij} - \\overline{X_{\\bullet\\bullet}})^2 = \\sum_{i=1}^kn_i(\\overline{X_{i\\bullet}}-\\overline{X_{\\bullet\\bullet}})^2 + \\sum_{i=1}^k \\sum_{j=1}^{n_i} (X_{ij} - \\overline{X_{i\\bullet}})^2$$\n",
    "\n",
    "$$SS_{To}=\\sum_{i=1}^k \\sum_{j=1}^{n_i}(X_{ij} - \\overline{X_{\\bullet\\bullet}})^2,\\,\\,SS_{Tr}=\\sum_{i=1}^kn_i(\\overline{X_{i\\bullet}}-\\overline{X_{\\bullet\\bullet}})^2,\\,\\,SS_E=\\sum_{i=1}^k \\sum_{j=1}^{n_i} (X_{ij} - \\overline{X_{i\\bullet}})^2$$\n",
    "\n"
   ]
  },
  {
   "cell_type": "markdown",
   "metadata": {},
   "source": [
    "### Estadísticos del contraste.\n",
    "\n",
    "\n",
    "Consideremos los estadísticos siguientes:\n",
    "\n",
    "* Cuadrado medio de los tratamientois: $MS_{Tr}=\\frac{SS_{Tr}}{k-1}$.\n",
    "\n",
    "\n",
    "* Cuadrado medio residual $MS_E=\\frac{SS_E}{N-k}$\n",
    "\n",
    "Aplicando propiedades de la esperanza de variables aleatorias, vemos que $MS_E$ es un estimador insesgado para $\\sigma^2$ y $E[MS_{Tr}]=E[MS_E]+\\sum_{i=1}^k\\frac{n_i(\\mu_i-\\mu)^2}{k-1}$.\n",
    "\n",
    "El estadístico de contraste de la prueba es el siguiente: $$F=\\frac{MS_{TR}}{MS_E},$$ y si $\\mathcal{H}_0$ es cierta, entonces $F\\sim F_{k-1,N-k}$. Rechazamos la hipótesis nula si el p-valor $P(F_{k-1,N-k}\\ge F)$ es menor que el nivel de significación $\\alpha$ y concluimos que no todas las medias son iguales. En caso contrario, aceptamos $\\mathcal{H}_0$. "
   ]
  },
  {
   "cell_type": "markdown",
   "metadata": {},
   "source": [
    "### ANOVA con R\n",
    "\n",
    "La siguiente función convierte tablas como las del ejemplo en tablas para el uso del ANOVA.\n",
    "\n",
    "``tabla_anova <- function(tabla_original){\n",
    "  do.call(what = rbind,\n",
    "          args = sapply(tabla_original,function(x){\n",
    "                        data.frame(X = x[-1],\n",
    "                                   F = rep(x[1],length(x[-1])))\n",
    "                                          },\n",
    "                        simplify = FALSE)\n",
    "          )``\n",
    "\n",
    "\n",
    "Utilizamos la función aov. Dicha función se aplica a la tabla de datos modificada: ``summary(aov(X~F))``.\n",
    "\n",
    "Con la siguiente función se hace una gráfica de cajas donde cada punto es el valor de la media, donde ``TABLA`` es la tabla ya modificada.\n",
    "\n",
    "``ggplot(data = TABLA, mapping = aes(x = F, y = X)) +\n",
    "  geom_boxplot() +\n",
    "  stat_summary(fun = mean,geom = \"point\")``\n",
    "  \n"
   ]
  },
  {
   "cell_type": "markdown",
   "metadata": {},
   "source": [
    "**Ejemplo.**\n",
    "\n",
    "Supóngase que se un estudio quiere comprobar si existe una diferencia significativa entre el % de bateos exitosos de los jugadores de béisbol dependiendo de la posición en la que juegan. La siguiente tabla contiene una muestra de jugadores seleccionados aleatoriamente.\n",
    "\n",
    "``posicion <- c(\"OF\", \"IF\", \"IF\", \"OF\", \"IF\", \"IF\", \"OF\", \"OF\", \"IF\", \"IF\", \"OF\", \"OF\", \"IF\", \"OF\", \"IF\", \"IF\", \"IF\", \"OF\", \"IF\", \"OF\", \"IF\", \"OF\", \"IF\", \"OF\", \"IF\", \"DH\", \"IF\", \"IF\", \"IF\", \"OF\", \"IF\", \"IF\", \"IF\", \"IF\", \"OF\", \"IF\", \"OF\", \"IF\", \"IF\", \"IF\", \"IF\", \"OF\", \"OF\", \"IF\", \"OF\", \"OF\", \"IF\", \"IF\", \"OF\", \"OF\", \"IF\", \"OF\", \"OF\", \"OF\", \"IF\", \"DH\", \"OF\", \"OF\", \"OF\", \"IF\", \"IF\", \"IF\", \"IF\", \"OF\", \"IF\", \"IF\", \"OF\", \"IF\", \"IF\", \"IF\", \"OF\", \"IF\", \"IF\", \"OF\", \"IF\", \"IF\", \"IF\", \"IF\", \"IF\", \"IF\", \"OF\", \"DH\", \"OF\", \"OF\", \"IF\", \"IF\", \"IF\", \"OF\", \"IF\", \"OF\", \"IF\", \"IF\", \"IF\", \"IF\", \"OF\", \"OF\", \"OF\", \"DH\", \"OF\", \"IF\", \"IF\", \"OF\", \"OF\", \"C\", \"IF\", \"OF\", \"OF\", \"IF\", \"OF\", \"IF\", \"IF\", \"IF\", \"OF\", \"C\", \"OF\", \"IF\", \"C\", \"OF\", \"IF\", \"DH\", \"C\", \"OF\", \"OF\", \"IF\", \"C\", \"IF\", \"IF\", \"IF\", \"IF\", \"IF\", \"IF\", \"OF\", \"C\", \"IF\", \"OF\", \"OF\", \"IF\", \"OF\", \"IF\", \"OF\", \"DH\", \"C\", \"IF\", \"OF\", \"IF\", \"IF\", \"OF\", \"IF\", \"OF\", \"IF\", \"C\", \"IF\", \"IF\", \"OF\", \"IF\", \"IF\", \"IF\", \"OF\", \"OF\", \"OF\", \"IF\", \"IF\", \"C\", \"IF\", \"C\", \"C\", \"OF\", \"OF\", \"OF\", \"IF\", \"OF\", \"IF\", \"C\", \"DH\", \"DH\", \"C\", \"OF\", \"IF\", \"OF\", \"IF\", \"IF\", \"IF\", \"C\", \"IF\", \"OF\", \"DH\", \"IF\", \"IF\", \"IF\", \"OF\", \"OF\", \"C\", \"OF\", \"OF\", \"IF\", \"IF\", \"OF\", \"OF\", \"OF\", \"OF\", \"OF\", \"OF\", \"IF\", \"IF\", \"DH\", \"OF\", \"IF\", \"IF\", \"OF\", \"IF\", \"IF\", \"IF\", \"IF\", \"OF\", \"IF\", \"C\", \"IF\", \"IF\", \"C\", \"IF\", \"OF\", \"IF\", \"DH\", \"C\", \"OF\", \"C\", \"IF\", \"IF\", \"OF\", \"C\", \"IF\", \"IF\", \"IF\", \"C\", \"C\", \"C\", \"OF\", \"OF\", \"IF\", \"IF\", \"IF\", \"IF\", \"OF\", \"OF\", \"C\", \"IF\", \"IF\", \"OF\", \"C\", \"OF\", \"OF\", \"OF\", \"OF\", \"OF\", \"OF\", \"OF\", \"OF\", \"OF\", \"OF\", \"OF\", \"C\", \"IF\", \"DH\", \"IF\", \"C\", \"DH\", \"C\", \"IF\", \"C\", \"OF\", \"C\", \"C\", \"IF\", \"OF\", \"IF\", \"IF\", \"IF\", \"IF\", \"IF\", \"IF\", \"IF\", \"IF\", \"OF\", \"OF\", \"OF\", \"IF\", \"OF\", \"OF\", \"IF\", \"IF\", \"IF\", \"OF\", \"C\", \"IF\", \"IF\", \"IF\", \"IF\", \"OF\", \"OF\", \"IF\", \"OF\", \"IF\", \"OF\", \"OF\", \"OF\", \"IF\", \"OF\", \"OF\", \"IF\", \"OF\", \"IF\", \"C\", \"IF\", \"IF\", \"C\", \"DH\", \"OF\", \"IF\", \"C\", \"C\", \"IF\", \"C\", \"IF\", \"OF\", \"C\", \"C\", \"OF\")``\n",
    "\n",
    "``bateo <- c(0.359, 0.34, 0.33, 0.341, 0.366, 0.333, 0.37, 0.331, 0.381, 0.332, 0.365, 0.345, 0.313, 0.325, 0.327, 0.337, 0.336, 0.291, 0.34, 0.31, 0.365, 0.356, 0.35, 0.39, 0.388, 0.345, 0.27, 0.306, 0.393, 0.331, 0.365, 0.369, 0.342, 0.329, 0.376, 0.414, 0.327, 0.354, 0.321, 0.37, 0.313, 0.341, 0.325, 0.312, 0.346, 0.34, 0.401, 0.372, 0.352, 0.354, 0.341, 0.365, 0.333, 0.378, 0.385, 0.287, 0.303, 0.334, 0.359, 0.352, 0.321, 0.323, 0.302, 0.349, 0.32, 0.356, 0.34, 0.393, 0.288, 0.339, 0.388, 0.283, 0.311, 0.401, 0.353, 0.42, 0.393, 0.347, 0.424, 0.378, 0.346, 0.355, 0.322, 0.341, 0.306, 0.329, 0.271, 0.32, 0.308, 0.322, 0.388, 0.351, 0.341, 0.31, 0.393, 0.411, 0.323, 0.37, 0.364, 0.321, 0.351, 0.329, 0.327, 0.402, 0.32, 0.353, 0.319, 0.319, 0.343, 0.288, 0.32, 0.338, 0.322, 0.303, 0.356, 0.303, 0.351, 0.325, 0.325, 0.361, 0.375, 0.341, 0.383, 0.328, 0.3, 0.277, 0.359, 0.358, 0.381, 0.324, 0.293, 0.324, 0.329, 0.294, 0.32, 0.361, 0.347, 0.317, 0.316, 0.342, 0.368, 0.319, 0.317, 0.302, 0.321, 0.336, 0.347, 0.279, 0.309, 0.358, 0.318, 0.342, 0.299, 0.332, 0.349, 0.387, 0.335, 0.358, 0.312, 0.307, 0.28, 0.344, 0.314, 0.24, 0.331, 0.357, 0.346, 0.351, 0.293, 0.308, 0.374, 0.362, 0.294, 0.314, 0.374, 0.315, 0.324, 0.382, 0.353, 0.305, 0.338, 0.366, 0.357, 0.326, 0.332, 0.323, 0.306, 0.31, 0.31, 0.333, 0.34, 0.4, 0.389, 0.308, 0.411, 0.278, 0.326, 0.335, 0.316, 0.371, 0.314, 0.384, 0.379, 0.32, 0.395, 0.347, 0.307, 0.326, 0.316, 0.341, 0.308, 0.327, 0.337, 0.36, 0.32, 0.372, 0.306, 0.305, 0.347, 0.281, 0.281, 0.296, 0.306, 0.343, 0.378, 0.393, 0.337, 0.327, 0.336, 0.32, 0.381, 0.306, 0.358, 0.311, 0.284, 0.364, 0.315, 0.342, 0.367, 0.307, 0.351, 0.372, 0.304, 0.296, 0.332, 0.312, 0.437, 0.295, 0.316, 0.298, 0.302, 0.342, 0.364, 0.304, 0.295, 0.305, 0.359, 0.335, 0.338, 0.341, 0.3, 0.378, 0.412, 0.273, 0.308, 0.309, 0.263, 0.291, 0.359, 0.352, 0.262, 0.274, 0.334, 0.343, 0.267, 0.321, 0.3, 0.327, 0.313, 0.316, 0.337, 0.268, 0.342, 0.292, 0.39, 0.332, 0.315, 0.298, 0.298, 0.331, 0.361, 0.272, 0.287, 0.34, 0.317, 0.327, 0.354, 0.317, 0.311, 0.174, 0.302, 0.302, 0.291, 0.29, 0.268, 0.352, 0.341, 0.265, 0.307, 0.36, 0.305, 0.254, 0.279, 0.321, 0.305, 0.35, 0.308, 0.326, 0.219, 0.23, 0.322, 0.405, 0.321, 0.291, 0.312, 0.357, 0.324)``\n",
    "\n",
    "``datos <- data.frame(posicion = posicion, bateo = bateo)``"
   ]
  }
 ],
 "metadata": {
  "kernelspec": {
   "display_name": "R",
   "language": "R",
   "name": "ir"
  },
  "language_info": {
   "codemirror_mode": "r",
   "file_extension": ".r",
   "mimetype": "text/x-r-source",
   "name": "R",
   "pygments_lexer": "r",
   "version": "3.6.1"
  }
 },
 "nbformat": 4,
 "nbformat_minor": 4
}
