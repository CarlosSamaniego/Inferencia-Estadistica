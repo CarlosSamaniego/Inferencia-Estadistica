{
 "cells": [
  {
   "cell_type": "markdown",
   "metadata": {},
   "source": [
    "<img src=\"logo.png\">"
   ]
  },
  {
   "cell_type": "markdown",
   "metadata": {},
   "source": [
    "# Análisis de la varianza: ANOVA\n",
    "\n",
    "El problema que intentamos resolver el un contraste de igualdad de medias cuando tenemos mas de dos poblaciones. \n",
    "\n",
    "Más formalmente: sea $k>2$. Si tenemos $k$ poblaciones (por ejemplo, las personas de $k$ países), y $\\mu_1,\\mu_2,...,\\mu_k$ son las medias reales de cada una de esas poblaciones, planteamos el contraste siguiente:\n",
    "$$\\left\\{\\begin{array}{l}\\mathcal{H}_0:\\mu_1=\\mu_2=...=\\mu_k\\\\\\mathcal{H}_1:\\mbox{existen }i,j\\mbox{ tales que }\\mu_i\\neq\\mu_j\\end{array}\\right.$$\n",
    "\n",
    "El test ANOVA realiza la comparación en la variabilidad de los dtos por grupos:\n",
    "\n",
    "* Variabilidad de los datos respecto de la media global.\n",
    "\n",
    "* Variabilidad dentro de cada población respecto de la media dentro de la población.\n",
    "\n",
    "* Variabilidad de las medias por poblaciones respecto de la media global.\n",
    "\n",
    "La idea del ANOVA es que si la variabilidad total de los datos es explicada por la variabilidad de las medias de las poblaciones y la poca \"variabilidad\" dentro de cada población, es indicio de que las medias son diferentes."
   ]
  },
  {
   "cell_type": "markdown",
   "metadata": {},
   "source": [
    "# Anova de un factor.\n",
    "\n",
    "Supongamos que estamos en los casos siguientes:\n",
    "\n",
    "* Usamos un solo factor para clasificar la población en subpoblaciones (**clasificación simple**).\n",
    "\n",
    "\n",
    "* El investigador decide qué niveles (categorías o **tratamientos**) del factor usará (**efectos fijos**).\n",
    "\n",
    "\n",
    "* Se toma una m.a.s. de cada subpolación, de manera independiente unas de las otras (**diseño completamente aleatoriedad**).\n",
    "\n",
    "Un estudio de este tipo se suele presentar como en la siguiente tabla:\n",
    "\n",
    "\n",
    "|$F_1$|$F_2$|...|$F_k$|\n",
    "|:--:|:--:|:--:|:--:|\n",
    "|$X_{11}$|$X_{21}$|...|$X_{k1}$|\n",
    "|$X_{12}$|$X_{22}$|...|$X_{k2}$|\n",
    "|$\\vdots$|$\\vdots$|$\\vdots$|$\\vdots$|\n",
    "|$X_{1{n_1}}$|$X_{2{n_2}}$|...|$X_{k{n_k}}$|"
   ]
  },
  {
   "cell_type": "markdown",
   "metadata": {},
   "source": [
    "Para poder aplicar ANOVA, el paso previo es almacenar los datos en dos variables:\n",
    "\n",
    "* Variable característica, llamada $X$.\n",
    "\n",
    "* Variable factor, llamada $F$.\n",
    "\n",
    "$X$ tendrá como valores los valores de la tabla anterior, y $F$ valdrá $i$ si el valor de la variable $X$ corresponde al nivel $i$-ésimo del factor.\n",
    "\n",
    "Es decir, se debe transformar la tabla anterior en una tabla con $N=n_1+n_2+\\cdots+n_k$ filas y 2 columnas, donde la primera columna son los valores de $X$ y la segunda son los valores de $F$."
   ]
  },
  {
   "cell_type": "markdown",
   "metadata": {},
   "source": [
    "**Ejemplo.**\n",
    "\n",
    "Se realizó un estudio para investigar el efecto del CO2 sobre la tasa de crecimiento de un hongo. Se cree que el crecimiento se ve afectado por la cantidad de CO2 en el aire.\n",
    "\n",
    "Para contrastarlo, en un experimento se administró CO2 a 5 presiones atmosféricas diferentes (ATM) a 10 cultivos diferentes por cada nivel y se anotó el cambio (en %) de la masa celular al cabo de una hora.\n",
    "\n",
    "|0.00|0.083|0.29|0.50|0.86|\n",
    "|:--:|:--:|:--:|:--:|:--:|\n",
    "|62.6|50.9|45.5|29.5|24.9|\n",
    "|59.6|44.3|41.1|22.8|17.2|\n",
    "|64.5|47.5|29.8|19.2|7.8 |\n",
    "|59.3|49.5|38.3|20.6|10.5|\n",
    "|58.6|48.5|40.2|29.2|17.8|\n",
    "|64.6|50.4|38.5|24.1|22.1|\n",
    "|50.9|35.2|30.2|22.6|22.6|\n",
    "|56.2|49.9|27.0|32.7|16.8|\n",
    "|52.3|42.6|40.0|24.4|15.9|\n",
    "|62.8|41.6|33.9|29.6|8.8 |"
   ]
  },
  {
   "cell_type": "markdown",
   "metadata": {},
   "source": [
    "## Definiciones.\n",
    "\n",
    "* Suma total de los datos nivel $i$: $T_{i\\bullet}=\\sum_{j=1}^{n_i}X_{ij}$.\n",
    "\n",
    "\n",
    "* Media muestral de los datos nivel $i$: $\\overline{X_{i\\bullet}}=\\frac{T_{i\\bullet}}{n_i}$.\n",
    "\n",
    "\n",
    "* Suma total de los datos: $T_{\\bullet\\bullet}=\\sum_{i=1}^k\\sum{j=1}^{n_i}X_{ij}$.\n",
    "\n",
    "\n",
    "* Media muestral de todos los datos: $\\overline{X_{\\bullet\\bullet}}=\\frac{T_{\\bullet\\bullet}}{N}$, donde $N=n_1+n_2+\\cdots+n_k$.\n",
    "\n"
   ]
  },
  {
   "cell_type": "markdown",
   "metadata": {},
   "source": [
    "## El modelo\n",
    "\n",
    "Las suposiciones del modelo son:\n",
    "\n",
    "* Las $k$ muestras son un m.a.s. independientes extraídas de $k$ poblaciones específicas con medias $\\mu_1,\\mu_2,\\cdots,\\mu_k$.\n",
    "\n",
    "\n",
    "* Cada una de las $k$ subpoblaciones sigue una ley normal.\n",
    "\n",
    "\n",
    "* Todas estas subpoblaciones tienen la misma varianza $\\sigma^2$ (homocedasticidad).\n",
    "\n"
   ]
  },
  {
   "cell_type": "markdown",
   "metadata": {},
   "source": [
    "### Teorema importante:\n",
    "\n",
    "La variabilidad de los datos respecto de la media global (**suma total de cuadrados**) es igual a la variabilidad de las medias de cada grupo respecto a la media globla (**suma de cuadrados de los tratamientos**) mas la variabilidad de los respecto de la media de cada grupo (**suma de cuadrados de los residuos**). Esto es: $$\\sum_{i=1}^k \\sum_{j=1}^{n_i}(X_{ij} - \\overline{X_{\\bullet\\bullet}})^2 = \\sum_{i=1}^kn_i(\\overline{X_{i\\bullet}}-\\overline{X_{\\bullet\\bullet}})^2 + \\sum_{i=1}^k \\sum_{j=1}^{n_i} (X_{ij} - \\overline{X_{i\\bullet}})^2$$\n",
    "\n",
    "$$SS_{To}=\\sum_{i=1}^k \\sum_{j=1}^{n_i}(X_{ij} - \\overline{X_{\\bullet\\bullet}})^2,\\,\\,SS_{Tr}=\\sum_{i=1}^kn_i(\\overline{X_{i\\bullet}}-\\overline{X_{\\bullet\\bullet}})^2,\\,\\,SS_E=\\sum_{i=1}^k \\sum_{j=1}^{n_i} (X_{ij} - \\overline{X_{i\\bullet}})^2$$\n",
    "\n"
   ]
  },
  {
   "cell_type": "markdown",
   "metadata": {},
   "source": [
    "### Estadísticos del contraste.\n",
    "\n",
    "\n",
    "Consideremos los estadísticos siguientes:\n",
    "\n",
    "* Cuadrado medio de los tratamientois: $MS_{Tr}=\\frac{SS_{Tr}}{k-1}$.\n",
    "\n",
    "\n",
    "* Cuadrado medio residual $MS_E=\\frac{SS_E}{N-k}$\n",
    "\n",
    "Aplicando propiedades de la esperanza de variables aleatorias, vemos que $MS_E$ es un estimador insesgado para $\\sigma^2$ y $E[MS_{Tr}]=E[MS_E]+\\sum_{i=1}^k\\frac{n_i(\\mu_i-\\mu)^2}{k-1}$.\n",
    "\n",
    "El estadístico de contraste de la prueba es el siguiente: $$F=\\frac{MS_{TR}}{MS_E},$$ y si $\\mathcal{H}_0$ es cierta, entonces $F\\sim F_{k-1,N-k}$. Rechazamos la hipótesis nula si el p-valor $P(F_{k-1,N-k}\\ge F)$ es menor que el nivel de significación $\\alpha$ y concluimos que no todas las medias son iguales. En caso contrario, aceptamos $\\mathcal{H}_0$. "
   ]
  },
  {
   "cell_type": "markdown",
   "metadata": {},
   "source": [
    "### ANOVA con R\n",
    "\n",
    "La siguiente función convierte tablas como las del ejemplo en tablas para el uso del ANOVA.\n",
    "\n",
    "``tabla_anova <- function(tabla_original){\n",
    "  a = do.call(what = rbind,\n",
    "          args = sapply(tabla_original,function(x){\n",
    "            data.frame(X = as.numeric(x[-1]),\n",
    "                       F = rep(x[1],length(x[-1])))\n",
    "          },\n",
    "          simplify = FALSE)\n",
    "  )\n",
    "  a[!(a$X %in% c(NA)),]\n",
    "}\n",
    "          ``\n",
    "\n",
    "\n",
    "Utilizamos la función aov con summary: ``summary(aov(X~F,TABLA)``, donde X es la columna de los datos, F es la columna del factor y TABLA es la columna modificada.\n",
    "\n",
    "Con la siguiente función se hace una gráfica de cajas donde cada punto es el valor de la media, donde ``TABLA`` es la tabla ya modificada.\n",
    "\n",
    "``ggplot(data = TABLA, mapping = aes(x = F, y = X)) +\n",
    "  geom_boxplot() +\n",
    "  stat_summary(fun = mean,geom = \"point\")``\n",
    "  \n"
   ]
  },
  {
   "cell_type": "markdown",
   "metadata": {},
   "source": [
    "**Ejemplo.**\n",
    "\n",
    "Supóngase que se un estudio quiere comprobar si existe una diferencia significativa entre el % de bateos exitosos de los jugadores de béisbol dependiendo de la posición en la que juegan. La siguiente tabla contiene una muestra de jugadores seleccionados aleatoriamente.\n",
    "\n",
    "``posicion <- c(\"OF\", \"IF\", \"IF\", \"OF\", \"IF\", \"IF\", \"OF\", \"OF\", \"IF\", \"IF\", \"OF\", \"OF\", \"IF\", \"OF\", \"IF\", \"IF\", \"IF\", \"OF\", \"IF\", \"OF\", \"IF\", \"OF\", \"IF\", \"OF\", \"IF\", \"DH\", \"IF\", \"IF\", \"IF\", \"OF\", \"IF\", \"IF\", \"IF\", \"IF\", \"OF\", \"IF\", \"OF\", \"IF\", \"IF\", \"IF\", \"IF\", \"OF\", \"OF\", \"IF\", \"OF\", \"OF\", \"IF\", \"IF\", \"OF\", \"OF\", \"IF\", \"OF\", \"OF\", \"OF\", \"IF\", \"DH\", \"OF\", \"OF\", \"OF\", \"IF\", \"IF\", \"IF\", \"IF\", \"OF\", \"IF\", \"IF\", \"OF\", \"IF\", \"IF\", \"IF\", \"OF\", \"IF\", \"IF\", \"OF\", \"IF\", \"IF\", \"IF\", \"IF\", \"IF\", \"IF\", \"OF\", \"DH\", \"OF\", \"OF\", \"IF\", \"IF\", \"IF\", \"OF\", \"IF\", \"OF\", \"IF\", \"IF\", \"IF\", \"IF\", \"OF\", \"OF\", \"OF\", \"DH\", \"OF\", \"IF\", \"IF\", \"OF\", \"OF\", \"C\", \"IF\", \"OF\", \"OF\", \"IF\", \"OF\", \"IF\", \"IF\", \"IF\", \"OF\", \"C\", \"OF\", \"IF\", \"C\", \"OF\", \"IF\", \"DH\", \"C\", \"OF\", \"OF\", \"IF\", \"C\", \"IF\", \"IF\", \"IF\", \"IF\", \"IF\", \"IF\", \"OF\", \"C\", \"IF\", \"OF\", \"OF\", \"IF\", \"OF\", \"IF\", \"OF\", \"DH\", \"C\", \"IF\", \"OF\", \"IF\", \"IF\", \"OF\", \"IF\", \"OF\", \"IF\", \"C\", \"IF\", \"IF\", \"OF\", \"IF\", \"IF\", \"IF\", \"OF\", \"OF\", \"OF\", \"IF\", \"IF\", \"C\", \"IF\", \"C\", \"C\", \"OF\", \"OF\", \"OF\", \"IF\", \"OF\", \"IF\", \"C\", \"DH\", \"DH\", \"C\", \"OF\", \"IF\", \"OF\", \"IF\", \"IF\", \"IF\", \"C\", \"IF\", \"OF\", \"DH\", \"IF\", \"IF\", \"IF\", \"OF\", \"OF\", \"C\", \"OF\", \"OF\", \"IF\", \"IF\", \"OF\", \"OF\", \"OF\", \"OF\", \"OF\", \"OF\", \"IF\", \"IF\", \"DH\", \"OF\", \"IF\", \"IF\", \"OF\", \"IF\", \"IF\", \"IF\", \"IF\", \"OF\", \"IF\", \"C\", \"IF\", \"IF\", \"C\", \"IF\", \"OF\", \"IF\", \"DH\", \"C\", \"OF\", \"C\", \"IF\", \"IF\", \"OF\", \"C\", \"IF\", \"IF\", \"IF\", \"C\", \"C\", \"C\", \"OF\", \"OF\", \"IF\", \"IF\", \"IF\", \"IF\", \"OF\", \"OF\", \"C\", \"IF\", \"IF\", \"OF\", \"C\", \"OF\", \"OF\", \"OF\", \"OF\", \"OF\", \"OF\", \"OF\", \"OF\", \"OF\", \"OF\", \"OF\", \"C\", \"IF\", \"DH\", \"IF\", \"C\", \"DH\", \"C\", \"IF\", \"C\", \"OF\", \"C\", \"C\", \"IF\", \"OF\", \"IF\", \"IF\", \"IF\", \"IF\", \"IF\", \"IF\", \"IF\", \"IF\", \"OF\", \"OF\", \"OF\", \"IF\", \"OF\", \"OF\", \"IF\", \"IF\", \"IF\", \"OF\", \"C\", \"IF\", \"IF\", \"IF\", \"IF\", \"OF\", \"OF\", \"IF\", \"OF\", \"IF\", \"OF\", \"OF\", \"OF\", \"IF\", \"OF\", \"OF\", \"IF\", \"OF\", \"IF\", \"C\", \"IF\", \"IF\", \"C\", \"DH\", \"OF\", \"IF\", \"C\", \"C\", \"IF\", \"C\", \"IF\", \"OF\", \"C\", \"C\", \"OF\")``\n",
    "\n",
    "``bateo <- c(0.359, 0.34, 0.33, 0.341, 0.366, 0.333, 0.37, 0.331, 0.381, 0.332, 0.365, 0.345, 0.313, 0.325, 0.327, 0.337, 0.336, 0.291, 0.34, 0.31, 0.365, 0.356, 0.35, 0.39, 0.388, 0.345, 0.27, 0.306, 0.393, 0.331, 0.365, 0.369, 0.342, 0.329, 0.376, 0.414, 0.327, 0.354, 0.321, 0.37, 0.313, 0.341, 0.325, 0.312, 0.346, 0.34, 0.401, 0.372, 0.352, 0.354, 0.341, 0.365, 0.333, 0.378, 0.385, 0.287, 0.303, 0.334, 0.359, 0.352, 0.321, 0.323, 0.302, 0.349, 0.32, 0.356, 0.34, 0.393, 0.288, 0.339, 0.388, 0.283, 0.311, 0.401, 0.353, 0.42, 0.393, 0.347, 0.424, 0.378, 0.346, 0.355, 0.322, 0.341, 0.306, 0.329, 0.271, 0.32, 0.308, 0.322, 0.388, 0.351, 0.341, 0.31, 0.393, 0.411, 0.323, 0.37, 0.364, 0.321, 0.351, 0.329, 0.327, 0.402, 0.32, 0.353, 0.319, 0.319, 0.343, 0.288, 0.32, 0.338, 0.322, 0.303, 0.356, 0.303, 0.351, 0.325, 0.325, 0.361, 0.375, 0.341, 0.383, 0.328, 0.3, 0.277, 0.359, 0.358, 0.381, 0.324, 0.293, 0.324, 0.329, 0.294, 0.32, 0.361, 0.347, 0.317, 0.316, 0.342, 0.368, 0.319, 0.317, 0.302, 0.321, 0.336, 0.347, 0.279, 0.309, 0.358, 0.318, 0.342, 0.299, 0.332, 0.349, 0.387, 0.335, 0.358, 0.312, 0.307, 0.28, 0.344, 0.314, 0.24, 0.331, 0.357, 0.346, 0.351, 0.293, 0.308, 0.374, 0.362, 0.294, 0.314, 0.374, 0.315, 0.324, 0.382, 0.353, 0.305, 0.338, 0.366, 0.357, 0.326, 0.332, 0.323, 0.306, 0.31, 0.31, 0.333, 0.34, 0.4, 0.389, 0.308, 0.411, 0.278, 0.326, 0.335, 0.316, 0.371, 0.314, 0.384, 0.379, 0.32, 0.395, 0.347, 0.307, 0.326, 0.316, 0.341, 0.308, 0.327, 0.337, 0.36, 0.32, 0.372, 0.306, 0.305, 0.347, 0.281, 0.281, 0.296, 0.306, 0.343, 0.378, 0.393, 0.337, 0.327, 0.336, 0.32, 0.381, 0.306, 0.358, 0.311, 0.284, 0.364, 0.315, 0.342, 0.367, 0.307, 0.351, 0.372, 0.304, 0.296, 0.332, 0.312, 0.437, 0.295, 0.316, 0.298, 0.302, 0.342, 0.364, 0.304, 0.295, 0.305, 0.359, 0.335, 0.338, 0.341, 0.3, 0.378, 0.412, 0.273, 0.308, 0.309, 0.263, 0.291, 0.359, 0.352, 0.262, 0.274, 0.334, 0.343, 0.267, 0.321, 0.3, 0.327, 0.313, 0.316, 0.337, 0.268, 0.342, 0.292, 0.39, 0.332, 0.315, 0.298, 0.298, 0.331, 0.361, 0.272, 0.287, 0.34, 0.317, 0.327, 0.354, 0.317, 0.311, 0.174, 0.302, 0.302, 0.291, 0.29, 0.268, 0.352, 0.341, 0.265, 0.307, 0.36, 0.305, 0.254, 0.279, 0.321, 0.305, 0.35, 0.308, 0.326, 0.219, 0.23, 0.322, 0.405, 0.321, 0.291, 0.312, 0.357, 0.324)``\n",
    "\n",
    "``datos <- data.frame(posicion = posicion, bateo = bateo)``"
   ]
  },
  {
   "cell_type": "markdown",
   "metadata": {},
   "source": [
    "**Ejemplo.**\n",
    "\n",
    "Queremos conocer si el efecto del alcohol influye en la capacidad de las personas para realizar sumas. Elegimos 8 personas al azar y las clasificamos en tres tratamientos: \n",
    "\n",
    "* T1: se les dará un placebo.\n",
    "* T2: se les dará una dosis baja de alcohol.\n",
    "* T3: se les dará una dosis fuerte de alcohol.\n",
    "\n",
    "El número de errores cometidos se presentan en la siguiente tabla.\n",
    "\n",
    "|T1|T2|T3|\n",
    "|:--:|:--:|:--:|\n",
    "|2|7|10|\n",
    "|4|8|10|\n",
    "||9|6|\n",
    "\n",
    "Con esta muestra, ¿es plausible que la media de errores en las tres poblaciones sea la misma?"
   ]
  },
  {
   "cell_type": "markdown",
   "metadata": {},
   "source": [
    "### Comparaciones por parejas.\n",
    "\n",
    "Si hemos rechazado la hipótesis nula $\\mathcal{H}_0:\\mu_1=\\mu_2=\\cdots=\\mu_k$, el siguiente paso es averiguar cuáles son los niveles diferentes.\n",
    "\n",
    "Es decir, hallar aquellas parejas $(\\mu_i,\\mu_j)$ tales que $\\mu_i\\neq\\mu_j$. \n",
    "\n",
    "Aunque hay diferentes formas de hacerlo, vamos a ver las más usuales.\n",
    "\n",
    "**Test de Bonferroni**\n",
    "\n",
    "Realiza todas las comparaciones de medias (en total $\\binom{k}{2}$) del tipo $$\\left\\{\\begin{array}{l}\\mathcal{H}_0:\\mu_i=\\mu_j\\\\\\mathcal{H}_1:\\mu_i\\neq\\mu_j\\end{array}\\right.$$\n",
    "\n",
    "El estadístico de contraste es $$T=\\frac{\\overline{X}_{i\\bullet}-\\overline{X}_{j\\bullet}}{\\sqrt{MS_E\\left(\\frac{1}{n_1}+\\frac{1}{n_1}\\right)}}$$ y el p-valor es $2P(t_{N-k}\\ge|t_{ij}|)$\n",
    "\n",
    "El test de Bonferroni propone reducir el nivel de significación de cada contraste para que la probabilidad final de Error tipo I sea $\\alpha$.\n",
    "\n",
    "**Por lo tanto se realizarán los $\\binom{k}{2}$ contrastes cada uno con nivel de significación $\\alpha/\\binom{k}{2}$.**\n",
    "\n",
    "Para realizar la comparación por parejas con R, usamos la función ``pairwise.t.test``. El parámetro p.adjust.method puede tomar el valor \"bonferroni\".\n",
    "\n",
    "``pairwise.t.test(Tabla$X,Tabla$F,p.adjust.method=\"bonferroni\")``\n",
    "\n",
    "Los resultados buscados (donde hay diferentes medias) se halla buscando los p-valores menores que $\\alpha$."
   ]
  },
  {
   "cell_type": "markdown",
   "metadata": {},
   "source": [
    "**Ejemplo.**\n",
    "\n",
    "Hallar qué poblaciones tienen medias diferentes en cada uno de los tres ejemplos anteriores para $\\alpha=0.05$"
   ]
  },
  {
   "cell_type": "markdown",
   "metadata": {},
   "source": [
    "**Test T de Holm**\n",
    "\n",
    "Es otro método es mas usado que el anterior porque tiene mayor potencia. La idea es repartir el error de tipo I de manera \"justa\" (a p-valores pequeños no les reparte casi error en comparación con los p-valores grandes).\n",
    "\n",
    "La función para su implementación es la misma pero con \"holm\".\n",
    "\n",
    "``pairwise.t.test(Tabla$X,Tabla$F,p.adjust.method=\"holm\")``\n",
    "\n",
    "Los resultados buscados (donde hay diferentes medias) se halla buscando los p-valores menores que  𝛼 ."
   ]
  },
  {
   "cell_type": "markdown",
   "metadata": {},
   "source": [
    "**Test de Duncan**\n",
    "\n",
    "La prueba de Duncan ajusta la diferencia crítica considerando si los dos promedios que se comparan son adyacentes o sí por el contrario existe uno o más medias entre las medias que se están comparando.\n",
    "\n",
    "Es más preciso cuando el número de mediciones de cada grupo es igual. Cabe señalar que no es recomendable su uso cuando la cantidad de tratamientos a comparar es muy alto.\n",
    "\n",
    "En R, el contraste de Duncan se realiza con la función ``duncan.test`` del paquete **agricolae**. La sintaxis es\n",
    "\n",
    "``duncan.test(aov,\"factor\",group =...,alpha=...)$sufijo``\n",
    "\n",
    "donde \n",
    "\n",
    "* aov es el resultado del anova de partida.\n",
    "\n",
    "* El factor es el factor del anova.\n",
    "\n",
    "* group puede ser TRUE o FALSE, dependiendo de cómo queremos ver el resultado.\n",
    "\n",
    "* El sufix es group si group = TRUE y comparison si group = FALSE.\n",
    "\n",
    "* alpha es el valor de significancia."
   ]
  },
  {
   "cell_type": "markdown",
   "metadata": {},
   "source": [
    "**Test de Tukey**\n",
    "\n",
    "Cuando la tabla de datos es equilibrada, el método de Tukey es el más exacto de los anteriores. Para aplicarlo usamos la función TukeyHSD (diferencia significativa honesta) y aplica al resultado del aov.\n",
    "\n",
    "``TukeyHSD(aov(X~F,tabla),conf.level = 0.95)``"
   ]
  },
  {
   "cell_type": "markdown",
   "metadata": {},
   "source": [
    "# Anova de dos vías.\n",
    "\n",
    "En esta sección supondremos que tendremos dos factores que nos clasifican los valores de la población en las correspondientes subpoblaciones.\n",
    "\n",
    "Hay tres cuestiones que habrá que resolver:\n",
    "\n",
    "* ¿Existen diferencias entre las medias de las subpoblaciones debido al factor 1?\n",
    "\n",
    "* ¿Existen diferencias entre las medias de las subpoblaciones debido al factor 2?\n",
    "\n",
    "* ¿Existe interacción entre los dos factores?\n",
    "\n",
    "Usaremos tablas balanceadas.\n",
    "\n",
    "Llamaremos A y B a los factores. Supondremos que A tiena $a$ niveles y B tiene $b$ niveles. Tomamos $n$ observaciones para cada combinació $n$ de tratamientos. Por lo tanto el número total de observaciones será $nab$.\n",
    "\n",
    "La variable aleatoria $X_{ijk}$, $i=\\overline{1,a}$, $j=\\overline{1,b}$, $k=\\overline{1,n}$ nos da la respuesta de la $k$-ésima unidad experimental al nivel $i$-ésimo del factor $A$ y el nivel $j$-ésimo del factor B.\n",
    "\n",
    "La tabla de datos tendrá la siguiente estructura:\n",
    "\n",
    "|Factor B / Factor A|1|2|...|a|\n",
    "|:--:|:--:|:--:|:--:|:--:|\n",
    "|1|$X_{111}$|$X_{211}$|...|$X_{a11}$|\n",
    "||$X_{112}$|$X_{212}$|...|$X_{a12}$|\n",
    "||$\\vdots$  |$\\vdots$  |$\\vdots$|$\\vdots$| \n",
    "||$X_{11n}$|$X_{21n}$|...|$X_{a1n}$|\n",
    "\n",
    "|Factor B / Factor A|1|2|...|a|\n",
    "|:--:|:--:|:--:|:--:|:--:|\n",
    "|2|$X_{121}$|$X_{221}$|...|$X_{a21}$|\n",
    "||$X_{122}$|$X_{222}$|...|$X_{a22}$|\n",
    "||$\\vdots$  |$\\vdots$  |$\\vdots$|$\\vdots$| \n",
    "||$X_{12n}$|$X_{22n}$|...|$X_{a2n}$|\n",
    "\n",
    "|Factor B / Factor A|1|2|...|a|\n",
    "|:--:|:--:|:--:|:--:|:--:|\n",
    "|b|$X_{1b1}$|$X_{2b1}$|...|$X_{ab1}$|\n",
    "||$X_{1b2}$|$X_{2b2}$|...|$X_{ab2}$|\n",
    "||$\\vdots$  |$\\vdots$  |$\\vdots$|$\\vdots$| \n",
    "||$X_{1bn}$|$X_{2bn}$|...|$X_{abn}$|"
   ]
  },
  {
   "cell_type": "markdown",
   "metadata": {},
   "source": [
    "### El modelo\n",
    "\n",
    "Los datos deben verificar lo siguiente:\n",
    "\n",
    "* Las observaciones para cada combinación de niveles constituyen muestras aleatorias simples independientes, cada una de tamaño $n$, de poblaciones $ab$.\n",
    "\n",
    "\n",
    "* Cada una de las $ab$ poblaciones es normal.\n",
    "\n",
    "\n",
    "* Tosas las poblaciones $ab$ tienen la misma varianza $\\sigma^2$.\n"
   ]
  },
  {
   "cell_type": "markdown",
   "metadata": {},
   "source": [
    "Los parámetros que intervienen en el contraste son:\n",
    "\n",
    "* $\\mu$: media poblacional total.\n",
    "\n",
    "\n",
    "* $\\mu_{i\\bullet\\bullet}$ es la media poblacional del nivel $i$ del factor A.\n",
    "\n",
    "\n",
    "* $\\mu_{\\bullet j \\bullet}$ es la media poblacional del nivel $j$ del factor B.\n",
    "\n",
    "\n",
    "* $\\mu_{ij\\bullet}$ es la media poblacional de la combinación $(i,j)$ de niveles A y B.\n",
    "\n",
    "\n"
   ]
  },
  {
   "cell_type": "markdown",
   "metadata": {},
   "source": [
    "En este caso, la expresión del modelo consiste en separar los valores de la variable $X$ en 5 sumandos:\n",
    "\n",
    "$$X_{ijk}=\\mu+\\alpha_i+\\beta_j+(\\alpha\\beta)_{ij}+E_{ijk},$$ donde \n",
    "\n",
    "\n",
    "* $\\alpha_i=\\mu_{i\\bullet\\bullet}-\\mu$ es el efecto de pertenecer al nivel $i$ de A.\n",
    "\n",
    "\n",
    "* $\\beta_j=\\mu_{\\bullet j \\bullet}-\\mu$ es el efecto de pertenecer al nivel $j$ de B.\n",
    "\n",
    "\n",
    "* $(\\alpha\\beta)_{ij}=\\mu_{ij \\bullet}-\\mu_{i\\bullet\\bullet}-\\mu_{\\bullet i \\bullet}+\\mu$ es el efecto de la interacción entre el nivel $i$ de A y el nivel $j$ de B.\n",
    "\n",
    "\n",
    "* $E_{ijk}=X_{ijk}-\\mu_{ij\\bullet}$: error residual o aleatorio. \n"
   ]
  },
  {
   "cell_type": "markdown",
   "metadata": {},
   "source": [
    "Definimos los estadísticos siguientes:\n",
    "\n",
    "* Suma y media de los datos para la combinación de niveles $i$ y $j$: $$T_{ij\\bullet}=\\sum_{k=1}^nX_{ijk},\\,\\,\\overline{X}_{ij\\bullet}=\\frac{T_{ij\\bullet}}{n}$$\n",
    "\n",
    "\n",
    "* Suma y media de los datos para el nivel $i$ de A: $$T_{i\\bullet\\bullet}=\\sum_{j=1}^b\\sum_{k=1}^nX_{ijk}\\,\\,\\overline{X}_{i\\bullet\\bullet}=\\frac{T_{i\\bullet\\bullet}}{bn}$$\n",
    "\n",
    "\n",
    "* Suma y media de los datos para el nivel $j$ de B: $$T_{\\bullet j \\bullet}=\\sum_{i=1}^a\\sum_{k=1}^nX_{ijk}\\,\\,\\overline{X}_{\\bullet j \\bullet}=\\frac{T_{\\bullet j \\bullet}}{an}$$\n",
    "\n",
    "\n",
    "* Suma total de los datos y la media muestral total: $$T_{\\bullet\\bullet\\bullet}=\\sum_{i=1}^a\\sum_{j=1}^b\\sum_{k=1}^nX_{ijk},\\,\\,\\overline{X}_{\\bullet\\bullet\\bullet}=\\frac{T_{\\bullet\\bullet\\bullet}}{abn}$$\n"
   ]
  },
  {
   "cell_type": "markdown",
   "metadata": {},
   "source": [
    "### Identidad de sumas de cuadrados.\n",
    "\n",
    "\\begin{eqnarray*}\n",
    "\n",
    "$$SS_{To}=\\sum_{i=1}^a\\sum_{j=1}^b\\sum_{k=1}^n(X_{ijk}-\\overline{X}_{\\bullet\\bullet\\bullet})^2$$\n",
    "\n",
    "$$SS_{A}=bn\\sum_{i=1}^a(\\overline{X}_{i\\bullet\\bullet}-\\overline{X}_{\\bullet\\bullet\\bullet})^2$$\n",
    "\n",
    "$$SS_{B}=an\\sum_{j=1}^b(\\overline{X}_{\\bullet j \\bullet}-\\overline{X}_{\\bullet\\bullet\\bullet})^2$$\n",
    "\n",
    "$$SS_{AB}=n\\sum_{i=1}^a\\sum_{j=1}^b(\\overline{X}_{ij\\bullet}-\\overline{X}_{i\\bullet \\bullet}-\\overline{X}_{\\bullet j \\bullet}+\\overline{X}_{\\bullet\\bullet\\bullet})^2$$\n",
    "\n",
    "$$SS_{Tr}=n\\sum_{i=1}^a\\sum_{j=1}^b(\\overline{X}_{ij\\bullet}-\\overline{X}_{\\bullet\\bullet\\bullet})^2$$\n",
    "\n",
    "$$SS_E=\\sum_{i=1}^a\\sum_{j=1}^b\\sum_{k=1}^n(X_{ijk}-\\overline{X}_{ij\\bullet})^2$$\n",
    "\n"
   ]
  },
  {
   "cell_type": "markdown",
   "metadata": {},
   "source": [
    "El **Teorema de sumas de cuadrados** queda como sigue: $$SS_{To}=SS_{Tr}+SS_E,$$ con $$SS_{Tr}=SS_A+SS_B+SS_{AB}.$$"
   ]
  },
  {
   "cell_type": "markdown",
   "metadata": {},
   "source": [
    "Para realizar el ANOVA de dos factores, usaremos los siguientes cuadrados medios:\n",
    "\n",
    "* **Cuadrado medio del factor A**: $MS_A=\\frac{SS_A}{a-1}$.\n",
    "\n",
    "\n",
    "* **Cuadrado medio del factor B**: $MS_B=\\frac{SS_B}{b-1}$.\n",
    "\n",
    "\n",
    "* **Cuadrado medio de la interacción entre los factores A y B**: $MS_{AB}=\\frac{SS_{AB}}{(a-1)(b-1)}$.\n",
    "\n",
    "\n",
    "* **Cuadrado medio de los tratamientos**: $MS_{Tr}=\\frac{SS_{Tr}}{ab-1}$.\n",
    "\n",
    "\n",
    "* **Cuadrado medio de residual**: $MS_{E}=\\frac{SS_{E}}{ab(n-1)}$.\n",
    " "
   ]
  },
  {
   "cell_type": "markdown",
   "metadata": {},
   "source": [
    "### Interés del ANOVA de dos vías.\n",
    "\n",
    "Nos pueden llegar a interesar los cuatro constrastes siguientes:\n",
    "\n",
    "#### Contraste de medias del factor A.\n",
    "\n",
    "Contrastamos si hay diferencias entre los niveles del factor A: \n",
    "$$\\left\\{\\begin{array}{l}\\mathcal{H}_0:\\mu_{1\\bullet\\bullet}=\\mu_{2\\bullet\\bullet}=...=\\mu_{a\\bullet\\bullet}\\\\\\mathcal{H}_1:\\exists\\, i,i^\\prime\\,|\\,\\mu_{i\\bullet\\bullet}\\neq\\mu_{i^\\prime\\bullet\\bullet}\\end{array}\\right.$$\n",
    "\n",
    "El estadístico de contraste es $F=\\frac{MS_A}{MS_E}$ que, si $\\mathcal{H}_0$ es cierta, tiene una distribución $F_{a-1,ab(n-1)}$ y valor próximo a 1.\n",
    "\n",
    "#### Contraste de medias del factor B.\n",
    "\n",
    "Contrastamos si hay diferencias entre los niveles del factor B: \n",
    "$$\\left\\{\\begin{array}{l}\\mathcal{H}_0:\\mu_{\\bullet 1\\bullet}=\\mu_{\\bullet 2\\bullet}=...=\\mu_{\\bullet b\\bullet}\\\\\\mathcal{H}_1:\\exists\\, j,j^\\prime\\,|\\,\\mu_{\\bullet j \\bullet}\\neq\\mu_{\\bullet j^\\prime\\bullet}\\end{array}\\right.$$\n",
    "\n",
    "El estadístico de contraste es $F=\\frac{MS_{B}}{MS_E}$ que, si $\\mathcal{H}_0$ es cierta, tiene una distribución $F_{b-1,ab(n-1)}$ y valor próximo a 1.\n",
    "\n",
    "#### Contraste de los tratamientos.\n",
    "\n",
    "Contrastamos si hay diferencias entre las parejas (nivel $i$ de A, nivel $j$ de B): \n",
    "$$\\left\\{\\begin{array}{l}\\mathcal{H}_0:\\forall\\,i,j,i^\\prime,j^\\prime\\,|\\,\\mu_{ij\\bullet}=\\mu_{i^\\prime j^\\prime\\bullet}\\\\\\mathcal{H}_1:\\exists\\, i,j,i^\\prime,j^\\prime\\,|\\,\\mu_{ij\\bullet}\\neq\\mu_{i^\\prime j^\\prime\\bullet}\\end{array}\\right.$$\n",
    "\n",
    "El estadístico de contraste es $F=\\frac{MS_{Tr}}{MS_E}$ que, si $\\mathcal{H}_0$ es cierta, tiene una distribución $F_{ab-1,ab(n-1)}$ y valor próximo a 1.\n",
    "\n",
    "#### Contraste de no interacción.\n",
    "\n",
    "Contrastamos si hay interacción entre los factores.\n",
    "$$\\left\\{\\begin{array}{l}\\mathcal{H}_0:\\forall\\,i,j\\,|\\,(\\alpha\\beta)_{ij}=0\\\\\\mathcal{H}_1:\\exists\\, i,j\\,|\\,(\\alpha\\beta)_{ij}\\neq0\\end{array}\\right.$$\n",
    "\n",
    "El estadístico de contraste es $F=\\frac{MS_{AB}}{MS_E}$ que, si $\\mathcal{H}_0$ es cierta, tiene una distribución $F_{(a-1)(b-1),ab(n-1)}$ y valor próximo a 1.\n",
    "\n",
    "#### El p-valor\n",
    "\n",
    "En los cuatro casos el p-valore es $P(F_{x,y}\\ge\\mbox{valor del estadístico})$ donde $F_{x,y}$ representa la F de Fisher con los grados de libertad que correspondan a cada estadístico de contraste."
   ]
  },
  {
   "cell_type": "markdown",
   "metadata": {},
   "source": [
    "**Ejemplo.**\n",
    "\n",
    "En un experimento para determinar el efecto de la luz y la temperatura sobre el índice gonadosomático (GSI) de una especie de pez, se utilizaron dos fotoperiodos (14 horas de luz / 10 horas de oscuridad y 9 horas luz / 15 horas de oscuridad) y dos temperaturas (16C y 27C).\n",
    "\n",
    "El experimento se realizó sobre 20 hembras. Se dividieron aleatoriamente en 4 subgrupos de 5 ejemplares cada uno. Cada grupo recibió una combinación diferente de luz y temperatura.\n",
    "\n",
    "A los tres meses, se midieron los GSI de los peces y se obtuvieron los siguientes resultado:\n",
    "\n",
    "|Temperatura / Luz| 9hrs|14hrs|\n",
    "|:--:| :--:|:--:|\n",
    "|27C|0.90|0.83|\n",
    "||1.06|0.83|\n",
    "||0.98|0.57|\n",
    "||1.29|0.47|\n",
    "||1.12|0.66|\n",
    "\n",
    "|Temperatura / Luz| 9hrs|14hrs|\n",
    "|:--:| :--:|:--:|\n",
    "|16C|1.30|1.01|\n",
    "||2.88|1.52|\n",
    "||2.42|1.02|\n",
    "||2.66|1.32|\n",
    "||2.94|1.63|\n",
    "\n"
   ]
  },
  {
   "cell_type": "markdown",
   "metadata": {},
   "source": [
    "### Función para transformar tabla para dos vías\n",
    "\n",
    "La tabla se debe transformar a una tabla con tres columnas y $nab$ filas, donde la primera columna (X) son los datos, la segunda columna (A) es el primer factor y la tercera columna (B) es el segundo factor. \n",
    "\n",
    "La siguiente función en R transforma una lista de tablas como las anteriores y la lleva a una tabla *normalizada* como la que se desea. \n",
    "\n",
    "``tabla_dos_vias <- function(x,y){\n",
    "  V <- do.call(rbind,\n",
    "               mapply(function(x,y){data.frame(x,B = y)},\n",
    "                      lapply(x,function(x){a <- tabla_anova(x)}),\n",
    "                      y,\n",
    "                      SIMPLIFY = FALSE\n",
    "                      )\n",
    "               )\n",
    "  names(V)[2] <- \"A\"\n",
    "  V\n",
    "  }``\n",
    "  \n",
    "donde \n",
    "\n",
    "``x``: lista con cada una de las tablas.\n",
    "\n",
    "``y``: vector de nombres de los niveles del factor B."
   ]
  },
  {
   "cell_type": "markdown",
   "metadata": {},
   "source": [
    "### Anova de dos vías en R.\n",
    "\n",
    "Para realizar un contraste ANOVA de dos vías en R, hay que usar la función aov de siempre. Dicha función se aplica a la tabla modificada:\n",
    "\n",
    "``summary(aov(X~A*B,tabla modificada))``: nos da el informe sobre contraste de medias A, contraste de medias B y el contraste de no interacción.\n",
    "\n",
    "\n",
    "``summary(aov(X~A:B,tabla modificada))``: nos da el informe sobre contraste de los tratamientos.\n",
    "\n",
    "donde X es la variable de los datos, A es la columna del primer factor y B es la columna del segundo factor."
   ]
  },
  {
   "cell_type": "markdown",
   "metadata": {},
   "source": [
    "### Gráficos de interacción.\n",
    "\n",
    "El gráfico de interacción entre dos factores consiste en unir mediante segmentos los valores medios que toma la variable que comparamos para cada factor en los que hemos segregado dicha variable.\n",
    "\n",
    "Si no hay ninguna interacción entre los factores, los segmentos anteriores son paralelos. Cuanto más alejados del paralelismo estén dichos segmentos, mas evidencia de interacción entre estos dos factores.\n",
    "\n",
    "Para realizar un gráfico de interacción en R se usa la función ``interaction.plot``:\n",
    "\n",
    "``interaction.plot(F1,F2,x)``\n",
    "\n",
    "donde F1 es el factor que dibujamos en el eje de las abscisas, y F2 es el otro factor."
   ]
  }
 ],
 "metadata": {
  "kernelspec": {
   "display_name": "R",
   "language": "R",
   "name": "ir"
  },
  "language_info": {
   "codemirror_mode": "r",
   "file_extension": ".r",
   "mimetype": "text/x-r-source",
   "name": "R",
   "pygments_lexer": "r",
   "version": "3.6.1"
  }
 },
 "nbformat": 4,
 "nbformat_minor": 4
}
