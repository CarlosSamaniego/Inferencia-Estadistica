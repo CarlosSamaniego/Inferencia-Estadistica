{
 "cells": [
  {
   "cell_type": "markdown",
   "metadata": {},
   "source": [
    "<img src=\"logo.png\">"
   ]
  },
  {
   "cell_type": "markdown",
   "metadata": {},
   "source": [
    "# Muestras no independientes (apareadas).\n",
    "\n",
    "Un caso completamente diferente al del subcapítulo anterior es cuando las muestras corresponden a los mismos individuos o a individuos emparejadas por algún factor.\n",
    "\n",
    "Por ejemplo al estudiar una dolencia a los mismos individuos antes y después de un tratamiento; o medir la incidencia de cáncer en parejas de hermanos gemelos.\n",
    "\n",
    "En estos casos se habla de **muestras emparejadas** o **paired samples**.\n",
    "\n",
    "Para decidir si hay diferencias entre los valores de dos muestras emparejadas, el contraste más común consiste en calcular las diferencias de valores de cada una de las parejas de muestras y realizar un contraste para averiguar si la media de las diferencias es 0. \n",
    "\n",
    "**Observación.** El diseño experimental para realizar un contraste de muestras emparejadas se tiene que fijar antes de la recogida de datos.\n",
    "\n"
   ]
  },
  {
   "cell_type": "markdown",
   "metadata": {},
   "source": [
    "## Contrastes de medias de muestras emparejadas\n",
    "\n",
    "Tenemos dos v.a. $X_1$ y $X_2$. Tomamos una m.a.s. de cada una de las variables: $$\\begin{array}{c}X_{1,1},X_{1,2},\\cdots,X_{1,n}\\mbox{ de }X_1\\\\X_{2,1},X_{2,2},\\cdots,X_{2,n}\\mbox{ de }X_2\\end{array}.$$ \n",
    "\n",
    "Consideremos la variable diferencia $D=X_1-X_2$. La m.a.s. de $D$ construida a partir de las muestras anteriores será: $D_1=X_{1,1}-X_{2,1}$, $D_2=X_{1,2}-X_{2,2}$,...,$D_n=X_{1,n}-X_{2,n}$. \n",
    "\n",
    "Los contrastes planteados son los siguientes:\n",
    "\n",
    "a. $\\left\\{\\begin{array}{c}\\mathcal{H}_0:\\mu_1=\\mu_2\\\\\\mathcal{H}_1:\\mu_1>\\mu_2\\end{array}\\right.$\n",
    "\n",
    "b. $\\left\\{\\begin{array}{c}\\mathcal{H}_0:\\mu_1=\\mu_2\\\\\\mathcal{H}_1:\\mu_1<\\mu_2\\end{array}\\right.$\n",
    "\n",
    "c. $\\left\\{\\begin{array}{c}\\mathcal{H}_0:\\mu_1=\\mu_2\\\\\\mathcal{H}_1:\\mu_1\\neq\\mu_2\\end{array}\\right.$\n",
    "\n",
    "En términos de $D$ y $\\mu_d$ serán:\n",
    "\n",
    "a. $\\left\\{\\begin{array}{c}\\mathcal{H}_0:\\mu_d=0\\\\\\mathcal{H}_1:\\mu_d>0\\end{array}\\right.$\n",
    "\n",
    "b. $\\left\\{\\begin{array}{c}\\mathcal{H}_0:\\mu_d=0\\\\\\mathcal{H}_1:\\mu_d<0\\end{array}\\right.$\n",
    "\n",
    "c. $\\left\\{\\begin{array}{c}\\mathcal{H}_0:\\mu_d=0\\\\\\mathcal{H}_1:\\mu_d\\neq0\\end{array}\\right.$"
   ]
  },
  {
   "cell_type": "markdown",
   "metadata": {},
   "source": [
    "A partir de aquí, podemos calcular los p-valores y los intervalos de confianza de los contrastes anteriores usando las expresiones de los contrastes de una media vistos anteriormente."
   ]
  },
  {
   "cell_type": "markdown",
   "metadata": {},
   "source": [
    "## La función t.test\n",
    "\n",
    "La sintaxis de t.test para la situación presente es la siguiente:\n",
    "\n",
    "t.test(x, y, alternative = c(\"two.sided\", \"less\", \"greater\"), mu = 0, paired = TRUE, conf.level = 0.95, na.action)\n",
    "\n"
   ]
  },
  {
   "cell_type": "markdown",
   "metadata": {},
   "source": [
    "**Ejemplo.**\n",
    "\n",
    "Disponemos de dos algoritmos de alineamiento de proteínas. Los dos producen resultados de la misma calidad.\n",
    "\n",
    "Estamos interesados en saber cuál de los dos algoritmos es más eficiente, en el sentido de tener un tiempo de ejecución más corto. Suponemos que dichos tiempos de ejecución siguen leyes normales.\n",
    "\n",
    "Tomamos una muestras de proteínas y les aplicamos los dos algoritmos, anotando los tiempos de ejecución sobre cada proteína.\n",
    "\n",
    "Los resultados obtenidos son:\n",
    "\n",
    "|            | 1  | 2  | 3  | 4  | 5  | 6  | 7  | 8  | 9  | 10 |\n",
    "|:--:        |:--:|:--:|:--:|:--:|:--:|:--:|:--:|:--:|:--:|:--:|\n",
    "|algoritmo 1 |8.1 |11.9|11.4|12.9|9.0 | 7.2|12.4|6.9 |8.9 |8.3 |\n",
    "|algoritmo 2 |6.9 |6.7 |8.3 |8.6 |18.9| 7.9|7.4 |8.7 |7.9 |12.4|"
   ]
  },
  {
   "cell_type": "markdown",
   "metadata": {},
   "source": [
    "## Contrastes para proporciones de muestras emparejadas.\n",
    "\n",
    "Supongamos que evaluamos dos características dicotómicas sobre una misma muestra de $n$ sujetos. Resumimos los resultados en la siguiente tabla:\n",
    "\n",
    "|  |Car 1| |\n",
    "|:--:            |:--:|:--:|\n",
    "|**Car 2**|**Sí**  |**No**  |\n",
    "|**Sí**|a    |b|\n",
    "|**No**|c|d|\n",
    "\n",
    "Se cumple que $a+b+c+d=n$. Llamemos $p_1$ a la proporción de individuos que presentan la característica 1 y $p_2$ a la proporción de individuos que presentan la característica 2 (es decir, $p_1=\\frac{a+c}{n}$ y $p_2=\\frac{b+d}{n}$).\n",
    "\n",
    "Queremos contrastar la hipótesis nula $\\mathcal{H}_0:p_1=p_2$ contra alguna de las alternativas. En este caso **no pueden usarse ni prop.test o fisher.test**.\n",
    "\n",
    "La solución es realizar el contraste bilateral o los unilaterales cuando es $n$ grande y $b+c\\ge 20$."
   ]
  },
  {
   "cell_type": "markdown",
   "metadata": {},
   "source": [
    "El estadístico de contraste es $$Z=\\frac{\\frac{b}{n}-\\frac{c}{n}}{\\sqrt{\\frac{b+c}{n}}},$$ cuya distribución es aproximadamente $N(0,1)$. Sea $z_0$ el valor que toma sobre la muestra. \n",
    "\n",
    "El p-valor asociado a la prueba bilateral es $2P(Z\\ge|z_0|)$."
   ]
  },
  {
   "cell_type": "markdown",
   "metadata": {},
   "source": [
    "**Ejemplo.**\n",
    "\n",
    "Se toma una muestra de 1000 personas afectadas por migraña. Se les facilita un fármaco para aligerar los síntomas. Después de la administración se les pregunta si han notado alivio en el dolor. Al cabo de un tiempo se suministra a los mismos individuos un placebo y se les vuelve a preguntar si han notado o no mejora. Nos preguntamos si es más efectivo el fármaco que el placebo y se obtienen los siguientes datos:\n",
    "\n",
    "|Fármaco/Placebo|Sí|No|\n",
    "|:--:|:--:|:--:|\n",
    "|**Sí**|300|62|\n",
    "|**No**|38|600|"
   ]
  },
  {
   "cell_type": "markdown",
   "metadata": {},
   "source": [
    "El contraste que nos piden realizar es $$\\left\\{\\begin{array}{c}\\mathcal{H}_0:p_1=p_2\\\\\\mathcal{H}_1:p_1>p_2\\end{array}\\right.$$ donde $p_1$ y $p_2$ representan las proporciones de gente que encuentra mejora con el fármaco y el placebo respectivamente.\n"
   ]
  },
  {
   "cell_type": "markdown",
   "metadata": {},
   "source": [
    "### El test de McNemar\n",
    "\n",
    "En R podemos usar el test de McNemar, que se lleva a cabo con mcnemar.test(X) donde X es la matriz que corresponde a la tabla anterior: $$X=\\left(\\begin{array}{cc}a&b\\\\c&d\\end{array}\\right)$$"
   ]
  },
  {
   "cell_type": "markdown",
   "metadata": {},
   "source": [
    "**Ejemplo.**\n",
    "\n",
    "Usando la tabla birthwd, vamos a ver si la proporción de madres fumadoras es la misma que la proporción de madres hipertensas. Para ello vamos a considerar una muestra de 60 madres y vamos a realizar el contraste correspondiente (set.seed(333))."
   ]
  },
  {
   "cell_type": "markdown",
   "metadata": {},
   "source": [
    "### binom.test\n",
    "\n",
    "Otra posibilidad para realizar un contraste de dos proporciones usando muestras emparejadas, que **no requiere de ninguna hipótesis sobre el tamaño de la muestra**, es usar de manera adecuada el binom.test.\n",
    "\n",
    "Para explicar este método, consideremos la siguiente tabla, donde ahora damos las probabilidades poblacionales de las cuatro combinaciones de resultados:\n",
    "\n",
    "|  |Car 1| |\n",
    "|:--:            |:--:|:--:|\n",
    "|**Car 2**|**Sí**  |**No**  |\n",
    "|**Sí**|$p_{11}$    |$p_{01}$|\n",
    "|**No**|$p_{10}$|$p_{00}$|\n",
    "\n",
    "De esta manera, $p_{11}+p_{10}=p_1$ y $p_{11}+p_{01}=p_2$. Entonces $p_1=p_2$ equivale a $p_{10}=p_{01}$ y cualquier hipótesis alternativa se traduce en la misma desigualdad para $p_{10}$ y $p_{01}$:\n",
    "\n",
    "* $p_1>p_2$ equivale a $p_{10}>p_{01}$\n",
    "\n",
    "* $p_1<p_2$ equivale a $p_{10}< p_{01}$\n",
    "\n",
    "* $p_1\\neq p_2$ equivale a $p_{10}\\neq p_{01}$\n",
    "\n",
    "La gracia ahora está en que si la hipótesis nula es cierta, entonces en el total de casos discordantes, el número de sujetos en los que la carácterística 1 da Sí y la característica 2 da No sigue una binomial con $p=0.5$.\n",
    "\n",
    "Por lo tanto podemos efectuar el contraste usando un test binomial exacto tomando:\n",
    "\n",
    "* Como muestra los casos discordantes de nuestra muestra, de tamaño $b+c$\n",
    "\n",
    "* Como éxitos los sujetos que han dado Sí en la característica 1 y No en la característica 2, de tamaño $c$\n",
    "\n",
    "* Con proporción a contrastar $p=0.5$ y con hipótesis alternativa la que corresponda.\n",
    "\n",
    "**Ventaja:** su validez no requiere hipótesis sobre los tamaños de las muestras.\n",
    "\n",
    "**Desventaja:** el intervalo de confianza que nos dará será de $\\frac{p_{10}}{p_{10}+p_{01}}$, y no permite hallar un intervalo de confianza para la diferencia o el cociente de las probabilidades $p_1$ y $p_2$ de interés."
   ]
  },
  {
   "cell_type": "markdown",
   "metadata": {},
   "source": [
    "**Ejemplo.**\n",
    "\n",
    "Volvemos a realizar el contraste anterior sobre proporción de madres que fuman y madres hipertensas."
   ]
  }
 ],
 "metadata": {
  "kernelspec": {
   "display_name": "R",
   "language": "R",
   "name": "ir"
  },
  "language_info": {
   "codemirror_mode": "r",
   "file_extension": ".r",
   "mimetype": "text/x-r-source",
   "name": "R",
   "pygments_lexer": "r",
   "version": "3.6.1"
  }
 },
 "nbformat": 4,
 "nbformat_minor": 4
}
