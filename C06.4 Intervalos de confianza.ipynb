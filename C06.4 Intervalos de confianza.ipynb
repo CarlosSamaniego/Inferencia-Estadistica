{
 "cells": [
  {
   "cell_type": "markdown",
   "metadata": {},
   "source": [
    "<img src=\"logo.png\">"
   ]
  },
  {
   "cell_type": "markdown",
   "metadata": {},
   "source": [
    "# Contraste para la desviación de una normal.\n",
    "\n",
    "Recordemos que si $X_1,X_2,\\cdots,X_n$ es una m.a.s. de una $N(\\mu,\\sigma)$, entonces $$\\chi^2=\\frac{(n-1)\\tilde{S}_X^2}{\\sigma^2}\\sim\\chi^2_{n-1}$$\n",
    "\n",
    "Por lo tanto, si la hipótesis nula $\\mathcal{H}_0:\\,\\sigma=\\sigma_0$ es verdadera, entonces $\\frac{(n-1)\\tilde{S}_X^2}{\\sigma^2}\\sim\\chi^2_{n-1}$.\n",
    "\n",
    "Calculamos además $\\chi^2_0$ sobre la muestra."
   ]
  },
  {
   "cell_type": "markdown",
   "metadata": {},
   "source": [
    "Nos planteamos los siguientes contrastes:\n",
    "\n",
    "\n",
    "a. $ \\left\\{\\begin{array}{ccc}\\mathcal{H_0}:&\\sigma=\\sigma_0&(\\mbox{o }\\mathcal{H_0}:\\sigma\\le \\sigma_0)\\\\\\mathcal{H_1}:&\\sigma>\\sigma_0& \\end{array}\\right.$\n",
    "\n",
    "b. $\\left\\{\\begin{array}{ccc}\\mathcal{H_0}:&\\sigma=\\sigma_0&(\\mbox{o }\\mathcal{H_0}:\\sigma\\ge p_0)\\\\\\mathcal{H_1}:&\\sigma<\\sigma_0& \\end{array}\\right.$\n",
    "\n",
    "c. $\\left\\{\\begin{array}{cc}\\mathcal{H_0}:&\\sigma=\\sigma_0\\\\\\mathcal{H_1}:&\\sigma\\neq \\sigma_0 \\end{array}\\right.$\n",
    "\n",
    "Los p-valores son los siguientes.\n",
    "\n",
    "a. p-valor: $P(\\chi^2_{n-1}\\ge \\chi^2_0)$\n",
    "\n",
    "b. p-valor: $P(\\chi^2_{n-1}\\le \\chi^2_0)$\n",
    "\n",
    "c. p-valor: $2\\min\\{P(\\chi^2_{n-1}\\le \\chi^2_0),P(\\chi^2_{n-1}\\ge \\chi^2_0)\\}$"
   ]
  },
  {
   "cell_type": "markdown",
   "metadata": {},
   "source": [
    "## La función sigma.test (paquete TeachingDemos)\n",
    "\n",
    "Su sintaxis es la siguiente:\n",
    "\n",
    "sigma.test(x, sigma = 1, sigmasq = sigma^2,\n",
    "  alternative = c(\"two.sided\", \"less\", \"greater\"), conf.level = 0.95)\n",
    "       \n",
    "       \n",
    "x = datos muestrales\n",
    "\n",
    "sigma: desviación hipotética.\n",
    "\n",
    "sigmasq: varianza hipotética.\n",
    "\n",
    "alternative: si se trata de prueba bilateral o unilateral.\n",
    "\n",
    "conf.level: 1-(probabilidad de error de tipo I).\n",
    "\n"
   ]
  },
  {
   "cell_type": "markdown",
   "metadata": {},
   "source": [
    "**Ejemplo.**\n",
    "\n",
    "Se han medido los siguientes valores en miles de personas para la audiencia de un programa de radio en $n=10$ días: 521, 742, 593, 635, 788, 717, 606, 639, 666, 624.\n",
    "\n",
    "Cotrastar si la varianza de la audiencia es 6400 al nivel de significación del 5% **suponiendo que la población es normal.**"
   ]
  },
  {
   "cell_type": "markdown",
   "metadata": {},
   "source": [
    "**Ejemplo.**\n",
    "\n",
    "Vamos a contrastar si la varianza de la anchura del sépalo de las flores de iris es menor que 0.2 con una muestra de 40 flores (set.seed(2019))."
   ]
  }
 ],
 "metadata": {
  "kernelspec": {
   "display_name": "R",
   "language": "R",
   "name": "ir"
  },
  "language_info": {
   "codemirror_mode": "r",
   "file_extension": ".r",
   "mimetype": "text/x-r-source",
   "name": "R",
   "pygments_lexer": "r",
   "version": "3.6.1"
  }
 },
 "nbformat": 4,
 "nbformat_minor": 4
}
