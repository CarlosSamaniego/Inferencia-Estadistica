{
 "cells": [
  {
   "cell_type": "markdown",
   "metadata": {},
   "source": [
    "<img src=\"logo.png\">"
   ]
  },
  {
   "cell_type": "markdown",
   "metadata": {},
   "source": [
    "# Contrastes de hipótesis para dos muestras.\n",
    "\n",
    "Queremos comparar el valor de un mismo parámetro en dos poblaciones. Para ello, dispondremos de una muestra para cada población. Hay que tener en cuenta que las muestras pueden ser de dos tipos:\n",
    "\n",
    "* **Muestras independientes:** las dos muestras se han obtenido de manera independiente (probar un medicamento sobre las dos muestras de enfermos con características diferentes).\n",
    "\n",
    "\n",
    "* **Muestras emparejadas:** las dos muestras corresponden a los mismos individuos, o a individuos emparejados de alguna manera (probamos dos medicamentos sobre los mismos enfermos).\n",
    "\n"
   ]
  },
  {
   "cell_type": "markdown",
   "metadata": {},
   "source": [
    "## Muestras independientes.\n",
    "\n",
    "Tendremos dos variables aleatorias (que representan los valores de la característica a estudiar sobre dos **poblaciones**). Queremos comparar el valor de un parámetro de las dos poblaciones.\n",
    "\n",
    "**Ejemplo.** ¿Son, en promedio, los hombres más altos que las mujeres?\n",
    "\n",
    "Lo haremos a partir de una m.a.s. de cada variable aleatoria escogidas, además, de manera independiente.\n",
    "\n"
   ]
  },
  {
   "cell_type": "markdown",
   "metadata": {},
   "source": [
    "## Contraste para dos medias poblacionales (ambas desviaciones conocidas).\n",
    "\n",
    "Tenemos dos v.a. $X_1$ y $X_2$, con medias $\\mu_1$ y $\\mu_2$. Tomamos una m.a.s. de cada una de las variables: $$\\begin{array}{c}X_{1,1},X_{1,2},\\cdots,X_{1,n_1}\\mbox{ de }X_1\\\\X_{2,1},X_{2,2},\\cdots,X_{2,n_2}\\mbox{ de }X_2\\end{array}.$$ Notemos que no necesariamente $n_1=n_2$.\n",
    "\n",
    "\n",
    "Sean $\\overline{X_1}$ y $\\overline{X_2}$ sus medias muestrales respectivas. La hipótesis nula será del tipo $H_0:\\,\\mu_1-\\mu_2=\\Delta$.\n",
    "\n",
    "La hipótesis alternativa puede ser cualquiera de las siguientes: $\\mu_1-\\mu_2>\\Delta$, $\\mu_1-\\mu_2<\\Delta$ o $\\mu_1-\\mu_2\\neq\\Delta$. \n",
    "\n",
    "Suponemos que $X_1$ y $X_2$ son normales o que $n_1\\ge 30$ y $n_2\\ge 30$ \"o una y una\". Si además conocemos las desviaciones $\\sigma_1$ y $\\sigma_2$, entonces el estadístico de contraste es $$Z=\\frac{\\overline{X_1}-\\overline{X_2}-\\Delta}{\\sqrt{\\frac{\\sigma_1^2}{n_1}+\\frac{\\sigma_2^2}{n_2}}},$$ que, si la hipótesis nula es cierta, sigue una $N(0,1)$.\n",
    "\n",
    "Si $z_0$ es el valor del estadístico de contraste sobre la muestra, entonces los p-valores son:\n",
    "\n",
    "* $\\mathcal{H}_1:\\,\\mu_1-\\mu_2>\\Delta$. p-valor=$P(Z\\ge z_0)$.\n",
    "\n",
    "* $\\mathcal{H}_1:\\,\\mu_1-\\mu_2<\\Delta$. p-valor=$P(Z\\le z_0)$.\n",
    "\n",
    "* $\\mathcal{H}_1:\\,\\mu_1-\\mu_2\\neq\\Delta$. p-valor=$2P(Z\\ge |z_0|)$."
   ]
  },
  {
   "cell_type": "markdown",
   "metadata": {},
   "source": [
    "**Ejemplo.**\n",
    "\n",
    "Queremos comparar los tiempos de realización de una tarea entre estudiantes de dos grados $G_1$ y $G_2$, y contrastar si es verdad que los estudiantes de $G_1$ emplean menos tiempo que los de $G_2$.\n",
    "\n",
    "Suponemos que las desviaciones típicas son $\\sigma_1=1$ y $\\sigma_2=2$.\n",
    "\n",
    "Disponemos de dos muestras independientes de tiempos realizados por estudiantes de cada grado, de tamaños $n_1=n_2=40$. Calculamos las medias de los tiempos empleados en cada muestra: $\\overline{X}_1=9.789$  y $\\overline{X}_2=11.385$ (ambos en minutos)."
   ]
  },
  {
   "cell_type": "markdown",
   "metadata": {},
   "source": [
    "**Solución.**\n",
    "\n",
    "La prueba de hipótesis es la siguente: $$\\left\\{\\begin{array}{c}\\mathcal{H}_0:\\mu_1-\\mu_2=0\\\\\\mathcal{H}_1:\\mu_1<\\mu_2\\end{array}\\right.$$\n",
    "\n",
    "\n",
    "\n"
   ]
  },
  {
   "cell_type": "code",
   "execution_count": 9,
   "metadata": {},
   "outputs": [
    {
     "data": {
      "text/html": [
       "-4.51416969109492"
      ],
      "text/latex": [
       "-4.51416969109492"
      ],
      "text/markdown": [
       "-4.51416969109492"
      ],
      "text/plain": [
       "[1] -4.51417"
      ]
     },
     "metadata": {},
     "output_type": "display_data"
    },
    {
     "data": {
      "text/html": [
       "3.17826535841486e-06"
      ],
      "text/latex": [
       "3.17826535841486e-06"
      ],
      "text/markdown": [
       "3.17826535841486e-06"
      ],
      "text/plain": [
       "[1] 3.178265e-06"
      ]
     },
     "metadata": {},
     "output_type": "display_data"
    }
   ],
   "source": [
    "## estadistico_contraste = (9.789-11.385) / sqrt(1^2/40 + 2^2/40)\n",
    "## p-valor: pnorm(estadistico_contraste)\n",
    "\n",
    "(estadistico_contraste  <-  (9.789-11.385) / sqrt(1^2/40 + 2^2/40))\n",
    "( p_valor <- pnorm(estadistico_contraste) )\n"
   ]
  },
  {
   "cell_type": "markdown",
   "metadata": {},
   "source": [
    "## Contraste para dos medias poblacionales (alguna desviación desconocida).\n",
    "\n",
    "Suponemos las demás condiciones que en el apartado anterior (ambas normales o ambas grandes).\n",
    "\n",
    "Distinguimos dos casos: $\\sigma_1=\\sigma_2$ o $\\sigma_1\\neq\\sigma_2$\n",
    "\n",
    "**Caso $\\sigma_1=\\sigma_2$.** El estadístico de contraste es $$T=\\frac{\\overline{X}_1-\\overline{X}_2-\\Delta}{\\sqrt{\\left(\\frac{1}{n_1}+\\frac{1}{n_2}\\right)\\cdot\\frac{(n_1-1)\\tilde{S_1}^2+(n_2-1)\\tilde{S_2}^2}{n_1+n_2-2}}},$$ que, cuando $\\mu_1=\\mu_2$, tiene, en caso de muestras grandes, una distribución $t_{n_1+n_2-2}$.\n",
    "\n",
    "**Caso $\\sigma_1\\neq\\sigma_2$.** El estadístico de contraste es $$T=\\frac{\\overline{X}_1-\\overline{X}_2-\\Delta}{\\sqrt{\\frac{\\tilde{S}_1^2}{n_1}+\\frac{\\tilde{S}_2^2}{n_2}}},$$ que, cuando $\\mu_1=\\mu_2$, tiene, en caso de muestras grandes, una distribución $t_f$ donde $$f=\\left\\lfloor\\frac{\\left(\\frac{\\tilde{S}_1^2}{n_1}+\\frac{\\tilde{S}_2^2}{n_2}\\right)^2}{\\frac{1}{n_1-1}\\left(\\frac{\\tilde{S}_1^2}{n_1}\\right)^2+\\frac{1}{n_2-1}\\left(\\frac{\\tilde{S}_2^2}{n_2}\\right)^2}\\right\\rfloor-2$$"
   ]
  },
  {
   "cell_type": "markdown",
   "metadata": {},
   "source": [
    "Los p-valores se calculan usando las mismas expresiones que en el caso en que $\\sigma_1$ y $\\sigma_2$ son conocidas, pero sustituyendo el estadístico de contraste $Z$ por el estadístico de contraste correspondiente."
   ]
  },
  {
   "cell_type": "markdown",
   "metadata": {},
   "source": [
    "##### **Ejemplo.**\n",
    "\n",
    "Queremos comparar los tiempos de realización de una tarea entre estudiantes de dos grados $G_1$ y $G_2$, y contrastar si es verdad que los estudiantes de $G_1$ emplean menos tiempo que los de $G_2$.\n",
    "\n",
    "Suponemos que no conocemos una o ambas desviaciones.\n",
    "\n",
    "Disponemos de dos muestras independientes de tiempos realizados por estudiantes de cada grado, de tamaños $n_1=40$ y $n_2=60$. Calculamos las medias de los tiempos empleados en cada muestra: $\\overline{X}_1=9.789$  y $\\overline{X}_2=11.385$, $\\tilde{S}_1=1.201$ y $\\tilde{S}_2=1.579$."
   ]
  },
  {
   "cell_type": "code",
   "execution_count": 15,
   "metadata": {},
   "outputs": [
    {
     "data": {
      "text/html": [
       "-5.72878781910512"
      ],
      "text/latex": [
       "-5.72878781910512"
      ],
      "text/markdown": [
       "-5.72878781910512"
      ],
      "text/plain": [
       "[1] -5.728788"
      ]
     },
     "metadata": {},
     "output_type": "display_data"
    },
    {
     "data": {
      "text/html": [
       "94"
      ],
      "text/latex": [
       "94"
      ],
      "text/markdown": [
       "94"
      ],
      "text/plain": [
       "[1] 94"
      ]
     },
     "metadata": {},
     "output_type": "display_data"
    },
    {
     "data": {
      "text/html": [
       "6.05255879423595e-08"
      ],
      "text/latex": [
       "6.05255879423595e-08"
      ],
      "text/markdown": [
       "6.05255879423595e-08"
      ],
      "text/plain": [
       "[1] 6.052559e-08"
      ]
     },
     "metadata": {},
     "output_type": "display_data"
    }
   ],
   "source": [
    "## estadistico_muestral <- (9.789 - 11.385) / sqrt( 1.201^2 / 40 + 1.579^2 / 60 )\n",
    "## f = floor( (1.201^2 / 40 + 1.579^2 / 60)^2 / (1.201^4 /(39 * 40^2) + 1.579^4 /(59 * 60^2)) ) - 2\n",
    "## p_valor <- P(T<=t0)\n",
    "\n",
    "( estadistico_muestral <- (9.789 - 11.385) / sqrt( 1.201^2 / 40 + 1.579^2 / 60 ) )\n",
    "\n",
    "( f = floor( (1.201^2 / 40 + 1.579^2 / 60)^2 / (1.201^4 /(39 * 40^2) + 1.579^4 /(59 * 60^2)) ) - 2 )\n",
    "\n",
    " ( p_valor  <- pt(estadistico_muestral,f) )"
   ]
  },
  {
   "cell_type": "markdown",
   "metadata": {},
   "source": [
    "### Mas sobre la función t.test de R\n",
    "\n",
    "Recordemos la sintaxis básica de la función t.test:\n",
    "\n",
    "t.test(x, y = NULL, alternative = c(\"two.sided\", \"less\", \"greater\"), mu = 0, paired = FALSE, var.equal = FALSE, conf.level = 0.95, na.action)\n",
    "\n",
    "donde los nuevos parámetros para realizar un contraste de dos medias independientes son: \n",
    "\n",
    "x: vector de datos de la primer muestra.\n",
    "\n",
    "y: vector de datos de la segunda muestra.\n",
    "\n",
    "alternative: si llamamos $\\mu_x$ y $\\mu_y$ a las medias de las poblaciones de donde hemos extraido las muestras, entonces two.sided representa la hipótesis alternativa $\\mu_x-\\mu_y\\neq \\Delta$; less indica que la alternativa es $\\mu_x-\\mu_y<\\Delta$ y greater indica $\\mu_x-\\mu_y>\\Delta$.\n",
    "\n",
    "mu: Es el valor de $\\Delta$.\n",
    "\n",
    "var.equal: solo lo tenemos que especificar si llevamos a cabo un contraste de dos medias usando muestras independientes y, en este caso, sirve para indicar si queremos considerar las dos varianzas poblacionales iguales o diferentes.\n",
    "\n",
    "**Imporante**\n",
    "\n",
    "Podemos sustituir los vectores x e y por una fórmula **variable1~variable2** que indica que separamos la variable numérica variable1 por los niveles de un factor variable2 de dos niveles (o de otra variable asimilable a un factor de dos niveles, como por ejemplo una variabl numérica que solo tome dos valores diferentes)."
   ]
  },
  {
   "cell_type": "markdown",
   "metadata": {},
   "source": [
    "**Ejemplo.**\n",
    "\n",
    "Imaginemos ahora que nos planteamos si la media de la longitud del pétalo es la misma para las flores de las especies setosa y versicolor. Para ello tomaremos una muestra de tamaño 40 para cada especia (set.seed(45))."
   ]
  },
  {
   "cell_type": "code",
   "execution_count": 19,
   "metadata": {},
   "outputs": [
    {
     "data": {
      "text/plain": [
       "\n",
       "\tTwo Sample t-test\n",
       "\n",
       "data:  muestra_setosa and muestra_versicolor\n",
       "t = -42.766, df = 78, p-value < 2.2e-16\n",
       "alternative hypothesis: true difference in means is not equal to 0\n",
       "95 percent confidence interval:\n",
       " -2.91203 -2.65297\n",
       "sample estimates:\n",
       "mean of x mean of y \n",
       "   1.4075    4.1900 \n"
      ]
     },
     "metadata": {},
     "output_type": "display_data"
    }
   ],
   "source": [
    "set.seed(45)\n",
    "muestra_setosa <-iris[sample(1:50,40,replace = TRUE),]$Petal.Length\n",
    "muestra_versicolor <-iris[sample(51:100,40,replace = TRUE),]$Petal.Length\n",
    "\n",
    "t.test(x = muestra_setosa, \n",
    "       y = muestra_versicolor, \n",
    "       alternative = \"two.sided\", \n",
    "       mu = 0,\n",
    "       var.equal = TRUE, \n",
    "       conf.level = 0.95)"
   ]
  },
  {
   "cell_type": "markdown",
   "metadata": {},
   "source": [
    "## Contraste para dos proporciones $p_1$ y $p_2$.\n",
    "\n",
    "Tenemos dos variables aleatorias $X_1$ y $X_2$ de Bernoulli de proporciones $p_1$ y $p_2$. Tomamos una m.a.s. de cada una y obtenemos la siguiente tabla.\n",
    "\n",
    "<img src=\"propos.png\">"
   ]
  },
  {
   "cell_type": "markdown",
   "metadata": {},
   "source": [
    "Supongamos que $p_1=p_2$. Para hallar la probabilidad de obtener $n_{11}$ éxitos para la variable $X_1$, podemos razonar de la siguiente manera:\n",
    "\n",
    "En una bolsa tenemos $n_{1\\bullet}$ bolas $E$ y $n_{2\\bullet}$ bolas F. La probabilidad anterior sería la probabilidad de obtener $n_{11}$ bolas $E$ si escogemos $n_{\\bullet1}$ de golpe.\n",
    "\n",
    "Sea $X$ una variable aleatoria hipergeométrica $H(n_{1\\bullet},n_{2\\bullet},n_{\\bullet1})$. La probabilidad anterior es $P(X=n_{11})$. Usaremos $X$ como estadístico de contraste."
   ]
  },
  {
   "cell_type": "markdown",
   "metadata": {},
   "source": [
    "Nos planteamos los siguientes contrastes:\n",
    "\n",
    "\n",
    "a. $ \\left\\{\\begin{array}{cc}H_0:&p_1=p_2\\\\H_1:&p_1>p_2& \\end{array}\\right.$\n",
    "\n",
    "b. $ \\left\\{\\begin{array}{cc}H_0:&p_1=p_2\\\\H_1:&p_1<p_2& \\end{array}\\right.$\n",
    "\n",
    "c. $\\left\\{\\begin{array}{cc}H_0:&p_1=p_2\\\\H_1:&p_1\\neq p_2 \\end{array}\\right.$\n",
    "\n",
    "Los p-valores son los siguientes.\n",
    "\n",
    "a. p-valor: $P(H(n_{1\\bullet},n_{2\\bullet},n_{\\bullet1})\\ge n_{11})$\n",
    "\n",
    "b. p-valor: $P(H(n_{1\\bullet},n_{2\\bullet},n_{\\bullet1})\\le n_{11})$\n",
    "\n",
    "c. p-valor: p-valor=$2\\min\\{P(H(n_{1\\bullet},n_{2\\bullet},n_{\\bullet1})\\le n_{11}),P(H(n_{1\\bullet},n_{2\\bullet},n_{\\bullet1})\\ge n_{11})\\}$"
   ]
  },
  {
   "cell_type": "markdown",
   "metadata": {},
   "source": [
    "### Test de Fisher en R\n",
    "\n",
    "El test de Fisher está implementado en la función fisher.test. Su sintaxis es\n",
    "\n",
    "fisher.test(x,alternative,conf.level) donde\n",
    "\n",
    "x es la matrix donde el número de éxitos van en la primer fila y los de fracasos van en la segunda y las poblaciones se ordenan por columnas."
   ]
  },
  {
   "cell_type": "markdown",
   "metadata": {},
   "source": [
    "**Ejemplo.**\n",
    "\n",
    "Para determinar si el Síndrome de Muerte repentina tiene componente genético, se consideran los casos de SIDS en parejas de gemelos monocigóticos y dicigóticos. Sea $p_1$ la proporcición de parejas de gemelos monocigóticos con algún caso de SIDS donde un solo hermano la sufrio. Sea $p_2$ la proporcición de parejas de gemelos dicigóticos con algún caso de SIDS donde un solo hermano la sufrio.\n",
    "\n",
    "Si el SIDS tiene componente genético, es de esperar que $p_1<p_2$.\n",
    "\n",
    "En un estudio de Peterson et al, 1980, se obtuvieron los siguienes datos:\n",
    "\n",
    "<img src=\"bebes_SIDS.png\">"
   ]
  },
  {
   "cell_type": "code",
   "execution_count": 25,
   "metadata": {},
   "outputs": [
    {
     "data": {
      "text/plain": [
       "\n",
       "\tFisher's Exact Test for Count Data\n",
       "\n",
       "data:  datos\n",
       "p-value = 0.7841\n",
       "alternative hypothesis: true odds ratio is less than 1\n",
       "95 percent confidence interval:\n",
       "  0.00000 39.73954\n",
       "sample estimates:\n",
       "odds ratio \n",
       "  1.308589 \n"
      ]
     },
     "metadata": {},
     "output_type": "display_data"
    }
   ],
   "source": [
    "datos  <- matrix(c(23,35,1,2),nrow=2,byrow=TRUE) \n",
    "\n",
    "fisher.test(x = datos, alternative = \"less\", conf.level = 0.95)"
   ]
  },
  {
   "cell_type": "markdown",
   "metadata": {},
   "source": [
    "El **odd ratio** es una función cuyo dominio son los eventos de un experimento y viene dada por $Odd(A)=\\frac{P(A)}{1-P(A)}$. Esta es una función estrictamente creciente en el sentido de que $P(A)<P(B)$ si y solo si $Odd(A)<Odd(B)$.\n",
    "\n",
    "El Odd ratio de dos dos eventos $A$ y $B$ se define como $\\frac{Odd(A)}{Odd(B)}$"
   ]
  },
  {
   "cell_type": "markdown",
   "metadata": {},
   "source": [
    "\n",
    "**Ejercicio.**\n",
    "\n",
    "Realicemos el contraste anterior de igualdad de proporciones de madres fumadoras de raza blanca y negra usando el test de Fisher (set.seed(2000))"
   ]
  },
  {
   "cell_type": "markdown",
   "metadata": {},
   "source": [
    "## Contrastes para dos varianzas\n",
    "\n",
    "Dadas dos poblaciones de normales independientes, nos planteamos si las varianzas de dichas poblaciones son iguales o diferentes. Una aplicación del contraste de varianzas es decidir qué opción elegir en el marco de una comparación de medias independientes. \n",
    "\n",
    "Tenemos dos variables aleatorias $X_1$ y $X_2$ normales con desviaciones $\\sigma_1$ y $\\sigma_2$ desconocidas. Suponemos que tenemos un m.a.s. de cada variable: $$\\begin{array}{c}X_{1,1},X_{1,2},\\cdots,X_{1,n_1}\\mbox{ de }X_1\\\\X_{2,1},X_{2,2},\\cdots,X_{2,n_2}\\mbox{ de }X_2\\end{array}.$$  Sean $\\tilde{S}_1$ y $\\tilde{S}_2$ sus desviaciones muestrales."
   ]
  },
  {
   "cell_type": "markdown",
   "metadata": {},
   "source": [
    "Nos planteamos los siguientes contrastes:\n",
    "\n",
    "\n",
    "a. $ \\left\\{\\begin{array}{ccc}H_0:&\\sigma_1=\\sigma_2&(\\mbox{o }H_0:\\frac{\\sigma^2_1}{\\sigma^2_2}=1)\\\\H_1:&\\sigma_1>\\sigma_2& \\end{array}\\right.$\n",
    "\n",
    "b. $ \\left\\{\\begin{array}{ccc}H_0:&\\sigma_1=\\sigma_2&(\\mbox{o }H_0:\\frac{\\sigma^2_1}{\\sigma^2_2}=1)\\\\H_1:&\\sigma_1<\\sigma_2& \\end{array}\\right.$\n",
    "\n",
    "c. $ \\left\\{\\begin{array}{ccc}H_0:&\\sigma_1=\\sigma_2&(\\mbox{o }H_0:\\frac{\\sigma^2_1}{\\sigma^2_2}=1)\\\\H_1:&\\sigma_1\\neq\\sigma_2& \\end{array}\\right.$\n",
    "\n",
    "Se emplea como estadístico de contraste a $$F=\\frac{\\tilde{S}_1^2}{\\tilde{S}_2^2}$$ que, si las poblaciones son normales y la hipótesis nula es verdadera, tiene una distribución $F_{n_1-1,n_2-1}$. \n",
    "\n",
    "Sea $f_0$ el valor que toma usando bajo la muestra."
   ]
  },
  {
   "cell_type": "markdown",
   "metadata": {},
   "source": [
    "Los p-valores asocieados son:\n",
    "\n",
    "a. p-valor: $P(F_{n_1-1,n_2-1}\\ge f_0)$\n",
    "\n",
    "b. p-valor: $P(F_{n_1-1,n_2-1}\\le f_0)$\n",
    "\n",
    "c. p-valor: $2\\min\\{P(F_{n_1-1,n_2-1}\\le f_0),P(F_{n_1-1,n_2-1}\\ge f_0)\\}$"
   ]
  },
  {
   "cell_type": "markdown",
   "metadata": {},
   "source": [
    "**Ejemplo.**\n",
    "\n",
    "Consideremos el ejemplo donde queríamos comparar los tiempos de realización de una tarea entre estudiantes de dos grados $G_1$ y $G_2$. Suponemos que estos tiempos siguen distribuciones normales.\n",
    "\n",
    "Disponemos de dos muestras independientes de los tiempos usados por los estudiantes de cada grado para realizar la tarea. Los tamaños de cada muestra son 40.\n",
    "\n",
    "Las desviaciones típicas muestrales de los tiempos empleados para cada muestra son $\\tilde{S}_1=1.201$ y $\\tilde{S}_2=1.579$. Contrastar la hipótesis de igualdad de varianzas al nivel de significación 0.05."
   ]
  },
  {
   "cell_type": "markdown",
   "metadata": {},
   "source": [
    "**Ejemplo.**\n",
    "\n",
    "Se desea comparar la actividad motora espontánea de un grupo de 25 ratas control y otro de 36 ratas desnutridas. Se midió el número de veces que pasaban ante una célula fotoeléctrica durante 24 horas. Los datos obtenidos fueron los siguientes:\n",
    "\n",
    "|              |**$n$**|**$\\overline{X}$**|**$\\tilde{S}$**|\n",
    "|:-:           |:-:    |:-:               |:-:            |\n",
    "|**1. Control**    |25     |869.8             |106.7          |\n",
    "|**2. Desnutridas**|36     |665               |133.7          |\n",
    "\n",
    "¿Se observan diferencias significativas entre el grupo de control y el grupo desnutrido? Supondremos que los datos anteriores provienen de normales."
   ]
  },
  {
   "cell_type": "markdown",
   "metadata": {},
   "source": [
    "### Contrastes para varianzas en R\n",
    "\n",
    "La función para efectuar este test es var.test y su sintaxis básica es la misma que la de t.test para dos muestras:\n",
    "\n",
    "var.test(x,y,ratio = 1, alternative,conf.level)\n",
    "\n",
    "**Ejemplo.**\n",
    "\n",
    "Recordemos que cuando explicamos el contraste para dos medias independientes, contrastamos si las medias de las longitudes del pétalo para setosa y versicolor eran iguales o no pero necesitábamos saber si las varianzas eran iguales o no para poder tenerlo en cuenta en la función t.test.\n",
    "\n",
    "Veamos ahora si podemos considerar las varianzas iguales o no.\n",
    "\n"
   ]
  },
  {
   "cell_type": "markdown",
   "metadata": {},
   "source": [
    "**Importante.**\n",
    "\n",
    "Para que el contraste anterior tenga sentido, hemos de suponer que las longitudes de los pétalos siguen distribuciones normales.\n",
    "\n",
    "¿Qué podemos hacer si dudamos de su normalidad? Usar un test no paramétrico que no presuponga esta hipótesis.\n",
    "\n",
    "Hay diversos tests no paramétricos para realizar contrastes bilaterales de dos varianzas. Por ejemplo el **Test de Fligner-Killen** que se implementa con la función fligner.test.\n",
    "\n",
    "Este se aplica o bien a una lista formadad por la dos muestras o bien a una fórmula que separe un vector numérico en dos muestras por medio de un factor de dos niveles."
   ]
  }
 ],
 "metadata": {
  "kernelspec": {
   "display_name": "R",
   "language": "R",
   "name": "ir"
  },
  "language_info": {
   "codemirror_mode": "r",
   "file_extension": ".r",
   "mimetype": "text/x-r-source",
   "name": "R",
   "pygments_lexer": "r",
   "version": "3.6.1"
  }
 },
 "nbformat": 4,
 "nbformat_minor": 4
}
