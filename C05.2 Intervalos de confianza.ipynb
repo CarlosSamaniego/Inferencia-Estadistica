{
 "cells": [
  {
   "cell_type": "markdown",
   "metadata": {},
   "source": [
    "<img src=\"logo.png\">"
   ]
  },
  {
   "cell_type": "markdown",
   "metadata": {},
   "source": [
    "# C05.2 Intervalos de confianza\n",
    "\n",
    "Una estimación por intervalos de un parámetro poblacional es una regla para calcular, a partir de nuestra muestra, un intervalo en el que, con una cierta probabilidad, se encuentra el valor verdadero del parámetro.\n",
    "\n",
    "**Definición.** Dado un parámetro $\\theta$, el intervalo $(A,B)$ es un intervalo de confianza del $(1-\\alpha)\\cdot100\\%$ para $\\theta$ cuando $P(A<\\theta<B)=1-\\alpha$.\n",
    "\n",
    "El valor $(1-\\alpha)\\cdot100\\%$ recibe el nombre de **nivel de confianza** y $\\alpha$ es el **nivel de significación**.\n",
    "\n",
    "Por defecto, buscaremos intervalos bilaterales tales que la cola de probabilidad sobrante se reparta por igual a cada lado del intervalo: $P(\\theta<A)=P(\\theta>B)=\\frac{\\alpha}{2}$.\n",
    "\n",
    "Por ejemplo, para buscar un intervalo de confianza $(A,B)$ del $95\\%$ buscaremos valores $A$ y $B$ tales que $P(\\theta<A)=0.025$ y $P(\\theta>B)=0.025$. Esto debido a que $(1-\\alpha)\\cdot 100\\%=95\\%$ de donde $\\alpha=0.05$\n",
    "\n"
   ]
  },
  {
   "cell_type": "markdown",
   "metadata": {},
   "source": [
    "## Intervalo de confianza para la media poblacional (varianza conocida)\n",
    "\n",
    "**Notación previa.** *Si $Z\\sim N(0,1)$ y $0<a<1$, al valor $k$ tal que $F_Z(k)=a$ (es decir, el valor $k$ tal que $P(Z\\le k)=a$) se le denota por $Z_a$. Esto en R significa que $Z_a=$qnorm(a)*. \n",
    "\n",
    "\n",
    "Sea $X$ una v.a. normal con media $\\mu$ desconocida y $\\sigma$ conocida. Si $X_1,X_2,\\cdots,X_n$ es una m.a.s. de $X$ con media muestral $\\overline{X}_n$. Queremos determinar un intervalo de confianza para $\\mu$ con un cierto nivel de confianza.\n",
    "\n",
    "Bajo estas condiciones, sabemos que $$Z=\\frac{\\overline{X}_n-\\mu}{\\sigma/\\sqrt{n}}\\sim N(0,1)$$.\n",
    "\n",
    "Comenzamos calculando un intervalo centrado en 0 en el que $Z$ tenga probabilidad $1-\\alpha$. Es decir, hallar $\\delta>0$ tal  que $P(-\\delta< Z<\\delta)=1-\\alpha$. Por lo tanto\n",
    "\n",
    "\\begin{eqnarray*}\n",
    "1-\\alpha&=&P(-\\delta<Z<\\delta)\\\\\n",
    "&=&F_Z(\\delta)-F_Z(-\\delta)\\\\\n",
    "&=&2F_Z(\\delta)-1,\n",
    "\\end{eqnarray*}\n",
    "\n",
    "de donde $F_Z(\\delta)=\\frac{2-\\alpha}{2}=1-\\frac{\\alpha}{2}$. Es decir $\\delta=Z_{1-\\frac{\\alpha}{2}}$ (o en R:  $\\boldsymbol{\\delta=}$**qnorm**$\\boldsymbol{\\left(1-\\frac{\\alpha}{2}\\right)}$)\n",
    "\n",
    "**Teorema** Sea $X\\sim N(\\mu,\\sigma)$ con $\\mu$ desconocida y $\\sigma$ conocida. Tomamos un m.a.s. de $X$. Un intervalo de confianza del $(1-\\alpha)\\cdot 100\\%$ para $\\mu$ es $$\\left(\\overline{X_n}-Z_{1-\\frac{\\alpha}{2}}\\frac{\\sigma}{\\sqrt{n}},\\overline{X_n}+Z_{1-\\frac{\\alpha}{2}}\\frac{\\sigma}{\\sqrt{n}}\\right)$$ \n",
    "\n",
    "<img src=\"z_a.png\">\n",
    "\n"
   ]
  },
  {
   "cell_type": "markdown",
   "metadata": {},
   "source": [
    "**Simulación de intervalos de confianza**\n",
    "\n",
    "Consideremos una población de $10^6$ valores de una normal con $\\mu=1.5$ y $\\sigma=1$. \n",
    "\n",
    "``set.seed(1012)\n",
    "mu = 1.5; sigma = 1;\n",
    "Poblacion = rnorm(10^6,mu,sigma)``\n",
    "\n",
    "\n",
    "Vamos a generar una muestra aleatoria simple de tamaño 50 de dicha población para posteriormente generar un intervalo de confianza al $95\\%$ para $\\mu$.\n",
    "\n",
    "1) Creamos una función tal que dada una muestra, un valor $\\sigma$ y una significancia $\\alpha$ nos genere el intervalo de confianza correspondiente:\n",
    "\n",
    "``\n",
    "intervalo_confianza <- function(x,sigma,alpha){\n",
    "    inferior <- mean(x) - qnorm(1-alpha/2) * sigma / sqrt(length(x))\n",
    "    superior <- mean(x) + qnorm(1-alpha/2) * sigma / sqrt(length(x))\n",
    "    c(inferior,superior)\n",
    "}\n",
    "``\n",
    "\n",
    "2) Tomamos la muestra de tamaño 50:\n",
    "\n",
    "``muestra  <- sample(Poblacion,50,replace = TRUE)``\n",
    "\n",
    "3) Realizamos el cálculo \n",
    "``intervalo_confianza(muestra,1,0.05)``"
   ]
  },
  {
   "cell_type": "markdown",
   "metadata": {},
   "source": [
    "**Ejercicio 1**\n",
    "\n",
    "Tomemos un m.a.s. de tamaño $n=16$ de una v.a. normal con $\\sigma=4$ y $\\mu$ desconocida. La media de la m.a.s. es $\\overline{x}=20$. Calcular un intervalo de confianza del 97.5% para $\\mu$.\n",
    "\n",
    "**Ejercicio 2**\n",
    "\n",
    "Queremos analizar un sensor que mide la temperatura de un procesador en grados centígrados, que tiene como temperatura usual entre 30C y 40C. Para saber si está bien calibrado, diseñamos un experimento en el que ponemos el procesador a trabajar en las mismas condiciones y tomamos una muestra de 40 valores de temperatura. \n",
    "\n",
    "Los resultados son los siguientes: 35.19, 37.76, 37.99, 35.34, 36.05, 34.17, 35.40, 36.94, 33.54, 36.04, 35.51, 36.68, 35.78,\n",
    "35.28, 35.27, 35.46, 35.32, 33.81, 36.50, 34.80, 36.22, 36.83, 35.05, 34.34, 35.97, 34.82, 37.85, 37.13, 37.27, 37.65, 37.36, 35.00, 36.36, 34.45, 38.02, 35.86, 33.46, 34.76, 35.07, 37.17.\n",
    "\n",
    "Supongamos que las medidas de nuestro sensor siguen una distribución normal con varianza poblacional conocida $\\sigma^2=1.44$. Calcular un intervalo de confianza del 90% para la media de la temperatura del procesador.  "
   ]
  },
  {
   "cell_type": "markdown",
   "metadata": {},
   "source": [
    "## Intervalo de confianza para la media poblacional (varianza desconocida)\n",
    "\n",
    "Nuestro problema ahora es que no conocemos $\\sigma$. Lo que haremos será sustituir la desviación típica del método anterior por la desviación típica muestral $\\tilde{S}_X$.\n",
    "\n",
    "**Teorema**\n",
    "\n",
    "Sea $X\\sim N(\\mu,\\sigma)$. Si $X_1,X_2,\\cdots,X_n$ es un m.a.s. de $X$ entonces $$T=\\frac{\\overline{X}-\\mu}{\\tilde{S}_X/\\sqrt{n}}\\sim t_{n-1}$$\n",
    "\n",
    "**Propiedades de la $t_{\\nu}$**\n",
    "\n",
    "* $E[t_\\nu]=0$ si $\\nu>1$ y $Var(t_\\nu)=\\frac{\\nu}{\\nu-2}$ si $\\nu>2$\n",
    "\n",
    "\n",
    "* Su función de distribución es simétrica respecto de $E[t_\\nu]=0$: \n",
    "\n",
    "$$P(t_\\nu\\le -x)=P(t_\\nu\\ge x)=1-P(t_\\nu\\le x)$$\n",
    "\n",
    "\n",
    "* Si $\\nu$ es grande, su distribución es aproximadamente normal $N(0,1)$ pero con mas varianza (se ve un poco mas aplastada).\n",
    "\n",
    "*Notación.* Indicaremos con $t_{\\nu,q}$ el $q-$cuantil de una $X\\sim t_\\nu$. Es decir, $P(X\\le t_{\\nu,q})=q$.\n",
    "\n",
    "\n",
    "\n",
    "**Teorema** Sea $X\\sim N(\\mu,\\sigma)$ con $\\mu$ y $\\sigma$ desconocidas. Tomamos un m.a.s. de $X$. Bajo estas condiciones, un intervalo de confianza del $(1-\\alpha)\\cdot 100\\%$ para $\\mu$ es $$\\left(\\overline{X_n}-t_{n-1,1-\\frac{\\alpha}{2}}\\frac{\\tilde{S}_X}{\\sqrt{n}},\\overline{X_n}+t_{n-1,1-\\frac{\\alpha}{2}}\\frac{\\tilde{S}_X}{\\sqrt{n}}\\right)$$ \n",
    "\n",
    "\n",
    "\n"
   ]
  },
  {
   "cell_type": "code",
   "execution_count": 1,
   "metadata": {},
   "outputs": [],
   "source": [
    "# intevalo_confianza_sinvar <- function(x,alpha){\n",
    "#  c(mean(x)-qt(1-alpha/2,length(x)-1)*sd(x)/sqrt(length(x)),\n",
    "#  mean(x)+qt(1-alpha/2,length(x)-1)*sd(x)/sqrt(length(x)))\n",
    "# }\n",
    "\n",
    "# M <- replicate(10000,intevalo_confianza_sinvar(sample(A,40,replace = TRUE),0.05))\n",
    "\n",
    "# M <- data.frame(t(M))\n",
    "#dim(M[M $ X1 < 14.2 & 14.2 < M $ X2,])"
   ]
  },
  {
   "cell_type": "markdown",
   "metadata": {},
   "source": [
    "<img src=\"ejemplo_varianza_desconocida.png\">"
   ]
  },
  {
   "cell_type": "markdown",
   "metadata": {},
   "source": [
    "## Intervalos de confianza para $\\mu$ de una población cualquiera con $\\sigma$ conocida y muestra grande.\n",
    "\n",
    "Es MUY IMPORTANTE notar que en los ejemplos anteriores hemos supuesto algo bastante restrictivo: la población sigue una distribución normal. \n",
    "\n",
    "Consideremos la situación siguiente:\n",
    "\n",
    "* $X$ una **variable aleatoria cualquiera** con media $\\mu$ desconocida y varianza $\\sigma^2$ conocida. \n",
    "\n",
    "* $X_1,\\cdots,X_n$ una m.a.s. de $X$.\n",
    "\n",
    "* $n\\ge 40$.\n",
    "\n",
    "En estas condiciones, $\\frac{\\overline{X}-\\mu}{\\frac{\\sigma}{\\sqrt{n}}}\\sim N(0,1)$ aproximadamente. Bajo estas condiciones, podemos tomar como intervalo de confianza del $(1-\\alpha)\\cdot100\\%$ de confianza para el parámetro $\\mu$ a\n",
    "$$\\left(\\overline{X_n}-Z_{1-\\frac{\\alpha}{2}}\\frac{\\sigma}{\\sqrt{n}},\\overline{X_n}+Z_{1-\\frac{\\alpha}{2}}\\frac{\\sigma}{\\sqrt{n}}\\right).$$\n",
    "\n",
    "En cambio, si $\\sigma$ es desconocida, tomamos \n",
    "$$\\left(\\overline{X_n}-Z_{1-\\frac{\\alpha}{2}}\\frac{\\tilde{S}_X}{\\sqrt{n}},\\overline{X_n}+Z_{1-\\frac{\\alpha}{2}}\\frac{\\tilde{S}_X}{\\sqrt{n}}\\right)$$ \n"
   ]
  },
  {
   "cell_type": "markdown",
   "metadata": {},
   "source": [
    "\n"
   ]
  }
 ],
 "metadata": {
  "kernelspec": {
   "display_name": "R",
   "language": "R",
   "name": "ir"
  },
  "language_info": {
   "codemirror_mode": "r",
   "file_extension": ".r",
   "mimetype": "text/x-r-source",
   "name": "R",
   "pygments_lexer": "r",
   "version": "3.6.1"
  }
 },
 "nbformat": 4,
 "nbformat_minor": 4
}
